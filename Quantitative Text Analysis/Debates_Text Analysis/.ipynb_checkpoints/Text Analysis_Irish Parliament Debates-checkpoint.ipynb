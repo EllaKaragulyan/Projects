{
 "cells": [
  {
   "cell_type": "markdown",
   "id": "5e62828a-fd26-4637-9f04-527072e706d0",
   "metadata": {},
   "source": [
    "# Text Analysis: Irish Parliament Debates\n",
    "\n",
    "\n",
    "## Overview\n",
    "\n",
    "This code conducts an analysis of the debates of the 33rd\n",
    "session of the Dáil Éireann (Irish Parliament) that was in sitting\n",
    "between 2020 and 2024. \n",
    "\n",
    "The dataset is structured as follows:\n",
    "\n",
    "| dail | vol | no  | date | speaker_name | speaker_role | constituency | party | text |\n",
    "|------|-----|-----|------|--------------|--------------|--------------|-------|------|\n",
    "\n",
    "where:\n",
    "\n",
    "`dail` - is the number of the Dáil (e.g. 33rd Dáil)\n",
    "\n",
    "`vol` - is the volume number of the debates (e.g. 1000)\n",
    "\n",
    "`no` - is the number of the debate in the volume (e.g. 1)\n",
    "\n",
    "`date` - is the date of the debate (in YYYY-MM-DD form, e.g. 2020-01-01)\n",
    "\n",
    "`speaker_name` - is the name of the speaker\n",
    "\n",
    "`speaker_role` - is the role of the speaker (e.g. TD, Minister, etc.)\n",
    "\n",
    "`constituency` - is the constituency of the speaker\n",
    "\n",
    "`party` - is the party of the speaker\n",
    "\n",
    "`text` - is the text of the speech\n",
    "\n",
    "Note that some of the texts belong to the outside speakers, such as,\n",
    "e.g. external experts, witnesses, etc. Another aspect of this data to\n",
    "keep in mind is that some of the recorded speeches are in Irish. You can\n",
    "choose to use those in your analysis or exclude them.\n",
    "\n",
    "## Part 1: Modelling Topics\n",
    "\n",
    "In this part we model the topics of the speeches in the Dáil. \n",
    "\n",
    "## Part 2: Modelling Ideology\n",
    "\n",
    "In this part we model the ideology of the speakers in the Dáil."
   ]
  },
  {
   "cell_type": "code",
   "execution_count": 3,
   "id": "f4dfb0ff-aa16-4877-8b68-8b6819005167",
   "metadata": {},
   "outputs": [],
   "source": [
    "# Installing packages, loading libraries, dictionaries \n",
    "\n",
    "#install.packages(\"quanteda\")\n",
    "#install.packages(\"textcat\")\n",
    "#install.packages(\"cld2\")\n",
    "\n",
    "#install.packages(\"topicmodels\")\n",
    "#install.packages(\"devtools\")\n",
    "#devtools::install_github(\"kbenoit/quanteda.dictionaries\") \n",
    "#remotes::install_github(\"kbenoit/quanteda.dictionaries\")\n",
    "\n",
    "library(dplyr)\n",
    "library(textcat)\n",
    "library(quanteda)\n",
    "library(cld2)\n",
    "library(quanteda.dictionaries)\n",
    "library(topicmodels)\n",
    "library(tidyr)\n",
    "library(ggplot2)\n",
    "\n",
    "# Load the dictionaries\n",
    "data(\"data_dictionary_LaverGarry\", package = \"quanteda.dictionaries\")\n",
    "\n",
    "# Check the structure of the dictionaries\n",
    "#str(data_dictionary_LaverGarry)"
   ]
  },
  {
   "cell_type": "code",
   "execution_count": 4,
   "id": "c5d4c64b-ed89-4b04-b658-1b33197e3b72",
   "metadata": {},
   "outputs": [
    {
     "name": "stderr",
     "output_type": "stream",
     "text": [
      "\u001b[1mRows: \u001b[22m\u001b[34m591949\u001b[39m \u001b[1mColumns: \u001b[22m\u001b[34m9\u001b[39m\n",
      "\u001b[36m──\u001b[39m \u001b[1mColumn specification\u001b[22m \u001b[36m────────────────────────────────────────────────────────\u001b[39m\n",
      "\u001b[1mDelimiter:\u001b[22m \",\"\n",
      "\u001b[31mchr\u001b[39m  (5): speaker_name, speaker_role, constituency, party, text\n",
      "\u001b[32mdbl\u001b[39m  (3): dail, vol, no\n",
      "\u001b[34mdate\u001b[39m (1): date\n",
      "\n",
      "\u001b[36mℹ\u001b[39m Use `spec()` to retrieve the full column specification for this data.\n",
      "\u001b[36mℹ\u001b[39m Specify the column types or set `show_col_types = FALSE` to quiet this message.\n"
     ]
    },
    {
     "data": {
      "text/html": [
       "<table class=\"dataframe\">\n",
       "<caption>A tibble: 3 × 9</caption>\n",
       "<thead>\n",
       "\t<tr><th scope=col>dail</th><th scope=col>vol</th><th scope=col>no</th><th scope=col>date</th><th scope=col>speaker_name</th><th scope=col>speaker_role</th><th scope=col>constituency</th><th scope=col>party</th><th scope=col>text</th></tr>\n",
       "\t<tr><th scope=col>&lt;dbl&gt;</th><th scope=col>&lt;dbl&gt;</th><th scope=col>&lt;dbl&gt;</th><th scope=col>&lt;date&gt;</th><th scope=col>&lt;chr&gt;</th><th scope=col>&lt;chr&gt;</th><th scope=col>&lt;chr&gt;</th><th scope=col>&lt;chr&gt;</th><th scope=col>&lt;chr&gt;</th></tr>\n",
       "</thead>\n",
       "<tbody>\n",
       "\t<tr><td>33</td><td>1061</td><td>3</td><td>2024-11-07</td><td>Catherine Connolly</td><td>An Leas-Cheann Comhairle</td><td>Galway West</td><td>Independent</td><td>Seanad Éireann has accepted the Finance Bill 2024, without recommendation.                                                                                                                                                                                                                                                                                                                                                                                                                                                                                                                                                                                                                                                                                                                                                                                                                                                                                                                                                                                                                                                                                                                                                                                                                                                                                                                                                                                                                                                                                                                                                                                                                                                                                                                                                                                                                                                                                                                                                                                                                                                                                                                                                                                                                                                                                                                                                                                                                                                                                                                                                                                                                                                                                                                                                                                                                                                                                                                                                                                                                                                                                                                                                                                                                                                                                                                                                                                                                                                                                                                                                                                                                                                                                                                                                                                                                                                                                                                                                                                                                                                                                                                                                                                                                                                                                                                                                                                                                                                          </td></tr>\n",
       "\t<tr><td>33</td><td>1061</td><td>3</td><td>2024-11-07</td><td>Catherine Connolly</td><td>An Leas-Cheann Comhairle</td><td>Galway West</td><td>Independent</td><td>I wish to advise the House of the following matters in respect of which notice has been given under Standing Order 37 and the name of the Member in each case: Deputy Claire Kerrane - to discuss the need for a rural Garda plan. Deputy Brendan Smith - to discuss the need to approve DEIS status for St Patrick's National School, Shercock, County Cavan. Deputy Marian Harkin - to discuss the interim accommodation arrangement for the post-primary school at Grange, County Sligo. Deputy David Stanton - to discuss the anomaly of business owners who are tenants being ineligible for supports such as the power up grant. Deputy Pearse Doherty - to discuss the need to engage with Transport Infrastructure Ireland regarding speed limits on national secondary roads. Deputy Donnchadh Ó Laoghaire - to discuss accommodation conditions of international protection applicants. Deputy Gino Kenny - to discuss future funding for Scoil Mochua, Clondalkin. Deputy Éamon Ó Cuív - to discuss upgrading the facilities at Dún Aengus in Árann. Deputy Sean Sherlock - to discuss the future-proofing and staffing of Mallow General Hospital. Deputy James O'Connor - to discuss water quality issues in the Cork East constituency. Deputy Pauline Tully - to discuss the gaps in home care provision in Cavan. Deputy Bernard Durkan - to discuss the situation of ensuring that access to the State-owned historical residence, Castletown House, and lands in Kildare is guaranteed and that maintenance and protection of the property is reinstated. Deputy Gary Gannon - to discuss public safety in Dublin city. The matters raised by Deputies David Stanton, Éamon Ó Cuív, Pearse Doherty, Gary Gannon, Brendan Smith, Claire Kerrane and Bernard Durkan have been selected for discussion.                                                                                                                                                                                                                                                                                                                                                                                                                                                                                                                                                                                                                                                                                                                                                                                                                                                                                                                                                                                                                                                                                                                                                                                                                                                                                                                                                                                                                                                                                                                                                                                                                                                                                                                                                                                                                                                                                                                                                                                                                                                                                                                                                                                                                                                                                                                                                                                                                                                                                                                                                                                                                                                                                                              </td></tr>\n",
       "\t<tr><td>33</td><td>1061</td><td>3</td><td>2024-11-07</td><td>David Stanton     </td><td>Deputy David Stanton    </td><td>Cork East  </td><td>Fine Gael  </td><td>I thought I was finished yesterday, but I am glad to be here this morning. I thank the Minister of State for being here.  The various grants the Government has made available to support small businesses are extraordinarily welcome and very important. The increased cost of business grant and the power up grant are the two most recent ones. In every scheme, anomalies will always arise. A number of anomalies has arisen here, which I want to draw attention to this morning, and that I ask the Minister of State and the Department to look at. One is the issue whereby a business is running an operation in a property but it is renting the property and the property owner is paying the tax. This happens because sometimes property owners were left with the rates bill in the past if the business was not paying the rates. The arrangements were made in many cases where the rates cost would be included in the rental cost, and the landlord would pay the rates and would ensure that it was paid. What has happened now is, because the business itself is not paying the rates, it is deemed ineligible for the power up grant and the increased cost of business grant. That is quite unfair.  I have been looking through some of the documentation the Department has put together. In fairness to the Department and the Government, they have done great work in this particular area. The Minister, Deputy Peter Burke, stated that \"the priority has been to ensure that as many businesses as possible\" in the hospitality and retail sectors that are facing great difficulty due to increased costs of running a business \"receive the money as quickly as possible\". However, these particular small businesses are now excluded. Another frequently asked question is who is eligible for the grant. The eligibility criteria states: \"Your business must be a commercially ... [traded entity] currently operating from a property that is commercially rateable.\" If the rates are being paid, even indirectly, I contend that we can find a mechanism whereby the business can actually receive the grant and it can be kept in business and keep people employed. It should not be beyond the bounds of possibility to do that.  Other issues have arisen as well. Somebody applied for the increased cost of business grant and did not tick the fact he or she was a retailer. The person might be a retailer anyway, but, for example, if the person was involved in art or something else instead, if he or she goes for the power up grant, the algorithm in the computer the person applied through will not allow him or her go any further and he or she is stopped. The person contacts the local authority, which says it cannot talk about that as it is a Department issue, but there is no one to talk to. There is a number of business owners around the country doing the best they could, were honest and straightforward and did not tick the correct box the first time and now cannot go forward for the power up grant. Again, I ask the Minister, and the Department, if it is listening, to have a look at that and see if there is a way of actually sorting that out.  A third anomaly is if somebody was in a rateable property and rates were being paid, and the person moved to a different property during the course of this particular grant being administered. The person is paying rates on the second property as well. That person also cannot draw down the power up grant because he or she moved properties and the property he or she is in now is different. The person has not had the time involved in paying rates through that property in 2023 to claim it back. The ratepayer needs to talk a person, not a computer, in order to fix that. It is unfair on the people if they have paid the rates and did everything upfront, lawfully and so on. I ask that it be looked at and fixed.  The final issue is slightly unrelated to the point this morning is that the Government has also made grants available for businesses to put solar panels on the roofs of its properties to cut down the cost of electricity. If the property is rented, the landlord or property owner cannot apply because he is not the business owner, and the business owner cannot apply because he does not own the premises. Again, there is a lacuna or anomaly there where nobody wins. Perhaps the Minister of State can shed some light on this.</td></tr>\n",
       "</tbody>\n",
       "</table>\n"
      ],
      "text/latex": [
       "A tibble: 3 × 9\n",
       "\\begin{tabular}{lllllllll}\n",
       " dail & vol & no & date & speaker\\_name & speaker\\_role & constituency & party & text\\\\\n",
       " <dbl> & <dbl> & <dbl> & <date> & <chr> & <chr> & <chr> & <chr> & <chr>\\\\\n",
       "\\hline\n",
       "\t 33 & 1061 & 3 & 2024-11-07 & Catherine Connolly & An Leas-Cheann Comhairle & Galway West & Independent & Seanad Éireann has accepted the Finance Bill 2024, without recommendation.                                                                                                                                                                                                                                                                                                                                                                                                                                                                                                                                                                                                                                                                                                                                                                                                                                                                                                                                                                                                                                                                                                                                                                                                                                                                                                                                                                                                                                                                                                                                                                                                                                                                                                                                                                                                                                                                                                                                                                                                                                                                                                                                                                                                                                                                                                                                                                                                                                                                                                                                                                                                                                                                                                                                                                                                                                                                                                                                                                                                                                                                                                                                                                                                                                                                                                                                                                                                                                                                                                                                                                                                                                                                                                                                                                                                                                                                                                                                                                                                                                                                                                                                                                                                                                                                                                                                                                                                                                                          \\\\\n",
       "\t 33 & 1061 & 3 & 2024-11-07 & Catherine Connolly & An Leas-Cheann Comhairle & Galway West & Independent & I wish to advise the House of the following matters in respect of which notice has been given under Standing Order 37 and the name of the Member in each case: Deputy Claire Kerrane - to discuss the need for a rural Garda plan. Deputy Brendan Smith - to discuss the need to approve DEIS status for St Patrick's National School, Shercock, County Cavan. Deputy Marian Harkin - to discuss the interim accommodation arrangement for the post-primary school at Grange, County Sligo. Deputy David Stanton - to discuss the anomaly of business owners who are tenants being ineligible for supports such as the power up grant. Deputy Pearse Doherty - to discuss the need to engage with Transport Infrastructure Ireland regarding speed limits on national secondary roads. Deputy Donnchadh Ó Laoghaire - to discuss accommodation conditions of international protection applicants. Deputy Gino Kenny - to discuss future funding for Scoil Mochua, Clondalkin. Deputy Éamon Ó Cuív - to discuss upgrading the facilities at Dún Aengus in Árann. Deputy Sean Sherlock - to discuss the future-proofing and staffing of Mallow General Hospital. Deputy James O'Connor - to discuss water quality issues in the Cork East constituency. Deputy Pauline Tully - to discuss the gaps in home care provision in Cavan. Deputy Bernard Durkan - to discuss the situation of ensuring that access to the State-owned historical residence, Castletown House, and lands in Kildare is guaranteed and that maintenance and protection of the property is reinstated. Deputy Gary Gannon - to discuss public safety in Dublin city. The matters raised by Deputies David Stanton, Éamon Ó Cuív, Pearse Doherty, Gary Gannon, Brendan Smith, Claire Kerrane and Bernard Durkan have been selected for discussion.                                                                                                                                                                                                                                                                                                                                                                                                                                                                                                                                                                                                                                                                                                                                                                                                                                                                                                                                                                                                                                                                                                                                                                                                                                                                                                                                                                                                                                                                                                                                                                                                                                                                                                                                                                                                                                                                                                                                                                                                                                                                                                                                                                                                                                                                                                                                                                                                                                                                                                                                                                                                                                                                                                              \\\\\n",
       "\t 33 & 1061 & 3 & 2024-11-07 & David Stanton      & Deputy David Stanton     & Cork East   & Fine Gael   & I thought I was finished yesterday, but I am glad to be here this morning. I thank the Minister of State for being here.  The various grants the Government has made available to support small businesses are extraordinarily welcome and very important. The increased cost of business grant and the power up grant are the two most recent ones. In every scheme, anomalies will always arise. A number of anomalies has arisen here, which I want to draw attention to this morning, and that I ask the Minister of State and the Department to look at. One is the issue whereby a business is running an operation in a property but it is renting the property and the property owner is paying the tax. This happens because sometimes property owners were left with the rates bill in the past if the business was not paying the rates. The arrangements were made in many cases where the rates cost would be included in the rental cost, and the landlord would pay the rates and would ensure that it was paid. What has happened now is, because the business itself is not paying the rates, it is deemed ineligible for the power up grant and the increased cost of business grant. That is quite unfair.  I have been looking through some of the documentation the Department has put together. In fairness to the Department and the Government, they have done great work in this particular area. The Minister, Deputy Peter Burke, stated that \"the priority has been to ensure that as many businesses as possible\" in the hospitality and retail sectors that are facing great difficulty due to increased costs of running a business \"receive the money as quickly as possible\". However, these particular small businesses are now excluded. Another frequently asked question is who is eligible for the grant. The eligibility criteria states: \"Your business must be a commercially ... {[}traded entity{]} currently operating from a property that is commercially rateable.\" If the rates are being paid, even indirectly, I contend that we can find a mechanism whereby the business can actually receive the grant and it can be kept in business and keep people employed. It should not be beyond the bounds of possibility to do that.  Other issues have arisen as well. Somebody applied for the increased cost of business grant and did not tick the fact he or she was a retailer. The person might be a retailer anyway, but, for example, if the person was involved in art or something else instead, if he or she goes for the power up grant, the algorithm in the computer the person applied through will not allow him or her go any further and he or she is stopped. The person contacts the local authority, which says it cannot talk about that as it is a Department issue, but there is no one to talk to. There is a number of business owners around the country doing the best they could, were honest and straightforward and did not tick the correct box the first time and now cannot go forward for the power up grant. Again, I ask the Minister, and the Department, if it is listening, to have a look at that and see if there is a way of actually sorting that out.  A third anomaly is if somebody was in a rateable property and rates were being paid, and the person moved to a different property during the course of this particular grant being administered. The person is paying rates on the second property as well. That person also cannot draw down the power up grant because he or she moved properties and the property he or she is in now is different. The person has not had the time involved in paying rates through that property in 2023 to claim it back. The ratepayer needs to talk a person, not a computer, in order to fix that. It is unfair on the people if they have paid the rates and did everything upfront, lawfully and so on. I ask that it be looked at and fixed.  The final issue is slightly unrelated to the point this morning is that the Government has also made grants available for businesses to put solar panels on the roofs of its properties to cut down the cost of electricity. If the property is rented, the landlord or property owner cannot apply because he is not the business owner, and the business owner cannot apply because he does not own the premises. Again, there is a lacuna or anomaly there where nobody wins. Perhaps the Minister of State can shed some light on this.\\\\\n",
       "\\end{tabular}\n"
      ],
      "text/markdown": [
       "\n",
       "A tibble: 3 × 9\n",
       "\n",
       "| dail &lt;dbl&gt; | vol &lt;dbl&gt; | no &lt;dbl&gt; | date &lt;date&gt; | speaker_name &lt;chr&gt; | speaker_role &lt;chr&gt; | constituency &lt;chr&gt; | party &lt;chr&gt; | text &lt;chr&gt; |\n",
       "|---|---|---|---|---|---|---|---|---|\n",
       "| 33 | 1061 | 3 | 2024-11-07 | Catherine Connolly | An Leas-Cheann Comhairle | Galway West | Independent | Seanad Éireann has accepted the Finance Bill 2024, without recommendation.                                                                                                                                                                                                                                                                                                                                                                                                                                                                                                                                                                                                                                                                                                                                                                                                                                                                                                                                                                                                                                                                                                                                                                                                                                                                                                                                                                                                                                                                                                                                                                                                                                                                                                                                                                                                                                                                                                                                                                                                                                                                                                                                                                                                                                                                                                                                                                                                                                                                                                                                                                                                                                                                                                                                                                                                                                                                                                                                                                                                                                                                                                                                                                                                                                                                                                                                                                                                                                                                                                                                                                                                                                                                                                                                                                                                                                                                                                                                                                                                                                                                                                                                                                                                                                                                                                                                                                                                                                                           |\n",
       "| 33 | 1061 | 3 | 2024-11-07 | Catherine Connolly | An Leas-Cheann Comhairle | Galway West | Independent | I wish to advise the House of the following matters in respect of which notice has been given under Standing Order 37 and the name of the Member in each case: Deputy Claire Kerrane - to discuss the need for a rural Garda plan. Deputy Brendan Smith - to discuss the need to approve DEIS status for St Patrick's National School, Shercock, County Cavan. Deputy Marian Harkin - to discuss the interim accommodation arrangement for the post-primary school at Grange, County Sligo. Deputy David Stanton - to discuss the anomaly of business owners who are tenants being ineligible for supports such as the power up grant. Deputy Pearse Doherty - to discuss the need to engage with Transport Infrastructure Ireland regarding speed limits on national secondary roads. Deputy Donnchadh Ó Laoghaire - to discuss accommodation conditions of international protection applicants. Deputy Gino Kenny - to discuss future funding for Scoil Mochua, Clondalkin. Deputy Éamon Ó Cuív - to discuss upgrading the facilities at Dún Aengus in Árann. Deputy Sean Sherlock - to discuss the future-proofing and staffing of Mallow General Hospital. Deputy James O'Connor - to discuss water quality issues in the Cork East constituency. Deputy Pauline Tully - to discuss the gaps in home care provision in Cavan. Deputy Bernard Durkan - to discuss the situation of ensuring that access to the State-owned historical residence, Castletown House, and lands in Kildare is guaranteed and that maintenance and protection of the property is reinstated. Deputy Gary Gannon - to discuss public safety in Dublin city. The matters raised by Deputies David Stanton, Éamon Ó Cuív, Pearse Doherty, Gary Gannon, Brendan Smith, Claire Kerrane and Bernard Durkan have been selected for discussion.                                                                                                                                                                                                                                                                                                                                                                                                                                                                                                                                                                                                                                                                                                                                                                                                                                                                                                                                                                                                                                                                                                                                                                                                                                                                                                                                                                                                                                                                                                                                                                                                                                                                                                                                                                                                                                                                                                                                                                                                                                                                                                                                                                                                                                                                                                                                                                                                                                                                                                                                                                                                                                                                                                               |\n",
       "| 33 | 1061 | 3 | 2024-11-07 | David Stanton      | Deputy David Stanton     | Cork East   | Fine Gael   | I thought I was finished yesterday, but I am glad to be here this morning. I thank the Minister of State for being here.  The various grants the Government has made available to support small businesses are extraordinarily welcome and very important. The increased cost of business grant and the power up grant are the two most recent ones. In every scheme, anomalies will always arise. A number of anomalies has arisen here, which I want to draw attention to this morning, and that I ask the Minister of State and the Department to look at. One is the issue whereby a business is running an operation in a property but it is renting the property and the property owner is paying the tax. This happens because sometimes property owners were left with the rates bill in the past if the business was not paying the rates. The arrangements were made in many cases where the rates cost would be included in the rental cost, and the landlord would pay the rates and would ensure that it was paid. What has happened now is, because the business itself is not paying the rates, it is deemed ineligible for the power up grant and the increased cost of business grant. That is quite unfair.  I have been looking through some of the documentation the Department has put together. In fairness to the Department and the Government, they have done great work in this particular area. The Minister, Deputy Peter Burke, stated that \"the priority has been to ensure that as many businesses as possible\" in the hospitality and retail sectors that are facing great difficulty due to increased costs of running a business \"receive the money as quickly as possible\". However, these particular small businesses are now excluded. Another frequently asked question is who is eligible for the grant. The eligibility criteria states: \"Your business must be a commercially ... [traded entity] currently operating from a property that is commercially rateable.\" If the rates are being paid, even indirectly, I contend that we can find a mechanism whereby the business can actually receive the grant and it can be kept in business and keep people employed. It should not be beyond the bounds of possibility to do that.  Other issues have arisen as well. Somebody applied for the increased cost of business grant and did not tick the fact he or she was a retailer. The person might be a retailer anyway, but, for example, if the person was involved in art or something else instead, if he or she goes for the power up grant, the algorithm in the computer the person applied through will not allow him or her go any further and he or she is stopped. The person contacts the local authority, which says it cannot talk about that as it is a Department issue, but there is no one to talk to. There is a number of business owners around the country doing the best they could, were honest and straightforward and did not tick the correct box the first time and now cannot go forward for the power up grant. Again, I ask the Minister, and the Department, if it is listening, to have a look at that and see if there is a way of actually sorting that out.  A third anomaly is if somebody was in a rateable property and rates were being paid, and the person moved to a different property during the course of this particular grant being administered. The person is paying rates on the second property as well. That person also cannot draw down the power up grant because he or she moved properties and the property he or she is in now is different. The person has not had the time involved in paying rates through that property in 2023 to claim it back. The ratepayer needs to talk a person, not a computer, in order to fix that. It is unfair on the people if they have paid the rates and did everything upfront, lawfully and so on. I ask that it be looked at and fixed.  The final issue is slightly unrelated to the point this morning is that the Government has also made grants available for businesses to put solar panels on the roofs of its properties to cut down the cost of electricity. If the property is rented, the landlord or property owner cannot apply because he is not the business owner, and the business owner cannot apply because he does not own the premises. Again, there is a lacuna or anomaly there where nobody wins. Perhaps the Minister of State can shed some light on this. |\n",
       "\n"
      ],
      "text/plain": [
       "  dail vol  no date       speaker_name       speaker_role            \n",
       "1 33   1061 3  2024-11-07 Catherine Connolly An Leas-Cheann Comhairle\n",
       "2 33   1061 3  2024-11-07 Catherine Connolly An Leas-Cheann Comhairle\n",
       "3 33   1061 3  2024-11-07 David Stanton      Deputy David Stanton    \n",
       "  constituency party      \n",
       "1 Galway West  Independent\n",
       "2 Galway West  Independent\n",
       "3 Cork East    Fine Gael  \n",
       "  text                                                                                                                                                                                                                                                                                                                                                                                                                                                                                                                                                                                                                                                                                                                                                                                                                                                                                                                                                                                                                                                                                                                                                                                                                                                                                                                                                                                                                                                                                                                                                                                                                                                                                                                                                                                                                                                                                                                                                                                                                                                                                                                                                                                                                                                                                                                                                                                                                                                                                                                                                                                                                                                                                                                                                                                                                                                                                                                                                                                                                                                                                                                                                                                                                                                                                                                                                                                                                                                                                                                                                                                                                                                                                                                                                                                                                                                                                                                                                                                                                                                                                                                                                                                                                                                                                                                                                                                                                                                                                                                                \n",
       "1 Seanad Éireann has accepted the Finance Bill 2024, without recommendation.                                                                                                                                                                                                                                                                                                                                                                                                                                                                                                                                                                                                                                                                                                                                                                                                                                                                                                                                                                                                                                                                                                                                                                                                                                                                                                                                                                                                                                                                                                                                                                                                                                                                                                                                                                                                                                                                                                                                                                                                                                                                                                                                                                                                                                                                                                                                                                                                                                                                                                                                                                                                                                                                                                                                                                                                                                                                                                                                                                                                                                                                                                                                                                                                                                                                                                                                                                                                                                                                                                                                                                                                                                                                                                                                                                                                                                                                                                                                                                                                                                                                                                                                                                                                                                                                                                                                                                                                                                                          \n",
       "2 I wish to advise the House of the following matters in respect of which notice has been given under Standing Order 37 and the name of the Member in each case: Deputy Claire Kerrane - to discuss the need for a rural Garda plan. Deputy Brendan Smith - to discuss the need to approve DEIS status for St Patrick's National School, Shercock, County Cavan. Deputy Marian Harkin - to discuss the interim accommodation arrangement for the post-primary school at Grange, County Sligo. Deputy David Stanton - to discuss the anomaly of business owners who are tenants being ineligible for supports such as the power up grant. Deputy Pearse Doherty - to discuss the need to engage with Transport Infrastructure Ireland regarding speed limits on national secondary roads. Deputy Donnchadh Ó Laoghaire - to discuss accommodation conditions of international protection applicants. Deputy Gino Kenny - to discuss future funding for Scoil Mochua, Clondalkin. Deputy Éamon Ó Cuív - to discuss upgrading the facilities at Dún Aengus in Árann. Deputy Sean Sherlock - to discuss the future-proofing and staffing of Mallow General Hospital. Deputy James O'Connor - to discuss water quality issues in the Cork East constituency. Deputy Pauline Tully - to discuss the gaps in home care provision in Cavan. Deputy Bernard Durkan - to discuss the situation of ensuring that access to the State-owned historical residence, Castletown House, and lands in Kildare is guaranteed and that maintenance and protection of the property is reinstated. Deputy Gary Gannon - to discuss public safety in Dublin city. The matters raised by Deputies David Stanton, Éamon Ó Cuív, Pearse Doherty, Gary Gannon, Brendan Smith, Claire Kerrane and Bernard Durkan have been selected for discussion.                                                                                                                                                                                                                                                                                                                                                                                                                                                                                                                                                                                                                                                                                                                                                                                                                                                                                                                                                                                                                                                                                                                                                                                                                                                                                                                                                                                                                                                                                                                                                                                                                                                                                                                                                                                                                                                                                                                                                                                                                                                                                                                                                                                                                                                                                                                                                                                                                                                                                                                                                                                                                                                                                                              \n",
       "3 I thought I was finished yesterday, but I am glad to be here this morning. I thank the Minister of State for being here.  The various grants the Government has made available to support small businesses are extraordinarily welcome and very important. The increased cost of business grant and the power up grant are the two most recent ones. In every scheme, anomalies will always arise. A number of anomalies has arisen here, which I want to draw attention to this morning, and that I ask the Minister of State and the Department to look at. One is the issue whereby a business is running an operation in a property but it is renting the property and the property owner is paying the tax. This happens because sometimes property owners were left with the rates bill in the past if the business was not paying the rates. The arrangements were made in many cases where the rates cost would be included in the rental cost, and the landlord would pay the rates and would ensure that it was paid. What has happened now is, because the business itself is not paying the rates, it is deemed ineligible for the power up grant and the increased cost of business grant. That is quite unfair.  I have been looking through some of the documentation the Department has put together. In fairness to the Department and the Government, they have done great work in this particular area. The Minister, Deputy Peter Burke, stated that \"the priority has been to ensure that as many businesses as possible\" in the hospitality and retail sectors that are facing great difficulty due to increased costs of running a business \"receive the money as quickly as possible\". However, these particular small businesses are now excluded. Another frequently asked question is who is eligible for the grant. The eligibility criteria states: \"Your business must be a commercially ... [traded entity] currently operating from a property that is commercially rateable.\" If the rates are being paid, even indirectly, I contend that we can find a mechanism whereby the business can actually receive the grant and it can be kept in business and keep people employed. It should not be beyond the bounds of possibility to do that.  Other issues have arisen as well. Somebody applied for the increased cost of business grant and did not tick the fact he or she was a retailer. The person might be a retailer anyway, but, for example, if the person was involved in art or something else instead, if he or she goes for the power up grant, the algorithm in the computer the person applied through will not allow him or her go any further and he or she is stopped. The person contacts the local authority, which says it cannot talk about that as it is a Department issue, but there is no one to talk to. There is a number of business owners around the country doing the best they could, were honest and straightforward and did not tick the correct box the first time and now cannot go forward for the power up grant. Again, I ask the Minister, and the Department, if it is listening, to have a look at that and see if there is a way of actually sorting that out.  A third anomaly is if somebody was in a rateable property and rates were being paid, and the person moved to a different property during the course of this particular grant being administered. The person is paying rates on the second property as well. That person also cannot draw down the power up grant because he or she moved properties and the property he or she is in now is different. The person has not had the time involved in paying rates through that property in 2023 to claim it back. The ratepayer needs to talk a person, not a computer, in order to fix that. It is unfair on the people if they have paid the rates and did everything upfront, lawfully and so on. I ask that it be looked at and fixed.  The final issue is slightly unrelated to the point this morning is that the Government has also made grants available for businesses to put solar panels on the roofs of its properties to cut down the cost of electricity. If the property is rented, the landlord or property owner cannot apply because he is not the business owner, and the business owner cannot apply because he does not own the premises. Again, there is a lacuna or anomaly there where nobody wins. Perhaps the Minister of State can shed some light on this."
      ]
     },
     "metadata": {},
     "output_type": "display_data"
    }
   ],
   "source": [
    "#Uploading the speeches datafile\n",
    "speeches <- readr::read_csv(\n",
    "  \"/path/to/your/dail_33_small.csv\"\n",
    ")\n",
    "head(speeches, 3)"
   ]
  },
  {
   "cell_type": "code",
   "execution_count": 5,
   "id": "bca92ab0-39e7-4885-9703-a1c08b736dbb",
   "metadata": {},
   "outputs": [
    {
     "name": "stdout",
     "output_type": "stream",
     "text": [
      "spc_tbl_ [591,949 × 9] (S3: spec_tbl_df/tbl_df/tbl/data.frame)\n",
      " $ dail        : num [1:591949] 33 33 33 33 33 33 33 33 33 33 ...\n",
      " $ vol         : num [1:591949] 1061 1061 1061 1061 1061 ...\n",
      " $ no          : num [1:591949] 3 3 3 3 3 3 3 3 3 3 ...\n",
      " $ date        : Date[1:591949], format: \"2024-11-07\" \"2024-11-07\" ...\n",
      " $ speaker_name: chr [1:591949] \"Catherine Connolly\" \"Catherine Connolly\" \"David Stanton\" \"Thomas Byrne\" ...\n",
      " $ speaker_role: chr [1:591949] \"An Leas-Cheann Comhairle\" \"An Leas-Cheann Comhairle\" \"Deputy David Stanton\" \"Minister of State at the Department of Tourism, Culture, Arts, Gaeltacht, Sport and Media (Deputy Thomas Byrne)\" ...\n",
      " $ constituency: chr [1:591949] \"Galway West\" \"Galway West\" \"Cork East\" \"Meath East\" ...\n",
      " $ party       : chr [1:591949] \"Independent\" \"Independent\" \"Fine Gael\" \"Fianna Fáil\" ...\n",
      " $ text        : chr [1:591949] \"Seanad Éireann has accepted the Finance Bill 2024, without recommendation.\" \"I wish to advise the House of the following matters in respect of which notice has been given under Standing Or\"| __truncated__ \"I thought I was finished yesterday, but I am glad to be here this morning. I thank the Minister of State for be\"| __truncated__ \"Gabhaim buíochas leis an Teachta as an ábhar seo a ardú ar maidin.  As Deputy Stanton is aware, the power up gr\"| __truncated__ ...\n",
      " - attr(*, \"spec\")=\n",
      "  .. cols(\n",
      "  ..   dail = \u001b[32mcol_double()\u001b[39m,\n",
      "  ..   vol = \u001b[32mcol_double()\u001b[39m,\n",
      "  ..   no = \u001b[32mcol_double()\u001b[39m,\n",
      "  ..   date = \u001b[34mcol_date(format = \"\")\u001b[39m,\n",
      "  ..   speaker_name = \u001b[31mcol_character()\u001b[39m,\n",
      "  ..   speaker_role = \u001b[31mcol_character()\u001b[39m,\n",
      "  ..   constituency = \u001b[31mcol_character()\u001b[39m,\n",
      "  ..   party = \u001b[31mcol_character()\u001b[39m,\n",
      "  ..   text = \u001b[31mcol_character()\u001b[39m\n",
      "  .. )\n",
      " - attr(*, \"problems\")=<externalptr> \n"
     ]
    },
    {
     "data": {
      "text/plain": [
       "      dail         vol               no              date           \n",
       " Min.   :33   Min.   : 992     Min.   : 1.0     Min.   :2020-02-20  \n",
       " 1st Qu.:33   1st Qu.:1009     1st Qu.: 2.0     1st Qu.:2021-11-11  \n",
       " Median :33   Median :1025     Median : 4.0     Median :2022-10-26  \n",
       " Mean   :33   Mean   :1026     Mean   : 3.8     Mean   :2022-10-06  \n",
       " 3rd Qu.:33   3rd Qu.:1043     3rd Qu.: 5.0     3rd Qu.:2023-10-19  \n",
       " Max.   :33   Max.   :1061     Max.   :10.0     Max.   :2024-11-07  \n",
       "              NA's   :424058   NA's   :424058                       \n",
       " speaker_name       speaker_role       constituency          party          \n",
       " Length:591949      Length:591949      Length:591949      Length:591949     \n",
       " Class :character   Class :character   Class :character   Class :character  \n",
       " Mode  :character   Mode  :character   Mode  :character   Mode  :character  \n",
       "                                                                            \n",
       "                                                                            \n",
       "                                                                            \n",
       "                                                                            \n",
       "     text          \n",
       " Length:591949     \n",
       " Class :character  \n",
       " Mode  :character  \n",
       "                   \n",
       "                   \n",
       "                   \n",
       "                   "
      ]
     },
     "metadata": {},
     "output_type": "display_data"
    },
    {
     "data": {
      "text/plain": [
       "\n",
       "           Administrative Panel              Agricultural Panel \n",
       "                           2673                            9489 \n",
       "                Carlow-Kilkenny                  Cavan-Monaghan \n",
       "                           8544                           13450 \n",
       "                          Clare                       Cork East \n",
       "                           8897                            6909 \n",
       "             Cork North-Central                 Cork North-West \n",
       "                           5228                            2625 \n",
       "             Cork South-Central                 Cork South-West \n",
       "                          20347                            5026 \n",
       " Cultural and Educational Panel                         Donegal \n",
       "                          10707                           13163 \n",
       "             Donegal North-East                Dublin Bay North \n",
       "                            174                            6163 \n",
       "               Dublin Bay South                  Dublin Central \n",
       "                           6831                           12822 \n",
       "                  Dublin Fingal                 Dublin Mid-West \n",
       "                          11491                           12371 \n",
       "              Dublin North-West                 Dublin Rathdown \n",
       "                           9371                            2733 \n",
       "           Dublin South-Central               Dublin South-East \n",
       "                           7125                             702 \n",
       "              Dublin South-West                     Dublin West \n",
       "                           9950                           10880 \n",
       "                  Dún Laoghaire                     Galway East \n",
       "                          12728                            2743 \n",
       "                    Galway West Industrial and Commercial Panel \n",
       "                          19206                           13300 \n",
       "                          Kerry                   Kildare North \n",
       "                           8820                           14994 \n",
       "                  Kildare South                    Labour Panel \n",
       "                          13444                            8998 \n",
       "                          Laois                   Limerick City \n",
       "                          15627                            6076 \n",
       "                Limerick County              Longford-Westmeath \n",
       "                           3424                            5021 \n",
       "                          Louth                            Mayo \n",
       "                          11754                            5436 \n",
       "                     Meath East                      Meath West \n",
       "                           5972                            4093 \n",
       " National University of Ireland      Nominated by the Taoiseach \n",
       "                           2268                            5237 \n",
       "                         Offaly                Roscommon-Galway \n",
       "                           1423                            7528 \n",
       "                  Sligo-Leitrim                       Tipperary \n",
       "                           3382                           13357 \n",
       "           University of Dublin                       Waterford \n",
       "                           3524                           10013 \n",
       "                        Wexford                         Wicklow \n",
       "                          14197                           21281 "
      ]
     },
     "metadata": {},
     "output_type": "display_data"
    },
    {
     "data": {
      "text/plain": [
       "\n",
       "Anti-Austerity Alliance - People Before Profit \n",
       "                                         14969 \n",
       "                                   Fianna Fáil \n",
       "                                        105068 \n",
       "                                     Fine Gael \n",
       "                                         85354 \n",
       "                                   Green Party \n",
       "                                         38014 \n",
       "                                   Independent \n",
       "                                         49295 \n",
       "                         Independents 4 Change \n",
       "                                           920 \n",
       "                                  Labour Party \n",
       "                                         16414 \n",
       "                                     Sinn Féin \n",
       "                                        101320 \n",
       "                              Social Democrats \n",
       "                                         20163 "
      ]
     },
     "metadata": {},
     "output_type": "display_data"
    },
    {
     "data": {
      "text/html": [
       "<style>\n",
       ".dl-inline {width: auto; margin:0; padding: 0}\n",
       ".dl-inline>dt, .dl-inline>dd {float: none; width: auto; display: inline-block}\n",
       ".dl-inline>dt::after {content: \":\\0020\"; padding-right: .5ex}\n",
       ".dl-inline>dt:not(:first-of-type) {padding-left: .5ex}\n",
       "</style><dl class=dl-inline><dt>dail</dt><dd>0</dd><dt>vol</dt><dd>424058</dd><dt>no</dt><dd>424058</dd><dt>date</dt><dd>0</dd><dt>speaker_name</dt><dd>160432</dd><dt>speaker_role</dt><dd>10</dd><dt>constituency</dt><dd>160432</dd><dt>party</dt><dd>160432</dd><dt>text</dt><dd>6</dd></dl>\n"
      ],
      "text/latex": [
       "\\begin{description*}\n",
       "\\item[dail] 0\n",
       "\\item[vol] 424058\n",
       "\\item[no] 424058\n",
       "\\item[date] 0\n",
       "\\item[speaker\\textbackslash{}\\_name] 160432\n",
       "\\item[speaker\\textbackslash{}\\_role] 10\n",
       "\\item[constituency] 160432\n",
       "\\item[party] 160432\n",
       "\\item[text] 6\n",
       "\\end{description*}\n"
      ],
      "text/markdown": [
       "dail\n",
       ":   0vol\n",
       ":   424058no\n",
       ":   424058date\n",
       ":   0speaker_name\n",
       ":   160432speaker_role\n",
       ":   10constituency\n",
       ":   160432party\n",
       ":   160432text\n",
       ":   6\n",
       "\n"
      ],
      "text/plain": [
       "        dail          vol           no         date speaker_name speaker_role \n",
       "           0       424058       424058            0       160432           10 \n",
       "constituency        party         text \n",
       "      160432       160432            6 "
      ]
     },
     "metadata": {},
     "output_type": "display_data"
    },
    {
     "data": {
      "text/plain": [
       "      dail         vol              no             date           \n",
       " Min.   :33   Min.   : 992    Min.   : 1.00   Min.   :2020-02-20  \n",
       " 1st Qu.:33   1st Qu.:1009    1st Qu.: 2.00   1st Qu.:2021-11-10  \n",
       " Median :33   Median :1025    Median : 4.00   Median :2022-10-26  \n",
       " Mean   :33   Mean   :1025    Mean   : 3.81   Mean   :2022-10-04  \n",
       " 3rd Qu.:33   3rd Qu.:1042    3rd Qu.: 5.00   3rd Qu.:2023-10-18  \n",
       " Max.   :33   Max.   :1061    Max.   :10.00   Max.   :2024-11-07  \n",
       "              NA's   :35791   NA's   :35791                       \n",
       " speaker_name       speaker_role       constituency          party          \n",
       " Length:50000       Length:50000       Length:50000       Length:50000      \n",
       " Class :character   Class :character   Class :character   Class :character  \n",
       " Mode  :character   Mode  :character   Mode  :character   Mode  :character  \n",
       "                                                                            \n",
       "                                                                            \n",
       "                                                                            \n",
       "                                                                            \n",
       "     text          \n",
       " Length:50000      \n",
       " Class :character  \n",
       " Mode  :character  \n",
       "                   \n",
       "                   \n",
       "                   \n",
       "                   "
      ]
     },
     "metadata": {},
     "output_type": "display_data"
    }
   ],
   "source": [
    "# Exploring the datafile \n",
    "str(speeches)\n",
    "summary(speeches)\n",
    "table(speeches$constituency)\n",
    "table(speeches$party)\n",
    "\n",
    "#Checking for NAs, dropping NAs for text \n",
    "colSums(is.na(speeches))\n",
    "speeches <- speeches[!is.na(speeches$text), ]\n",
    "\n",
    "# Subsetting a smaller sample, since the operations are too slow. \n",
    "set.seed(123)\n",
    "speeches <- speeches[sample(nrow(speeches), 50000), ]\n",
    "summary(speeches)\n",
    "\n",
    "# Note: Speeches where party and constituency are missing texts belong to the outside speakers, such as, e.g. external experts, witnesses. "
   ]
  },
  {
   "cell_type": "code",
   "execution_count": 6,
   "id": "9fea5a36-16a4-4ff1-9d2d-12b11c84e9ac",
   "metadata": {},
   "outputs": [
    {
     "data": {
      "text/plain": [
       "\n",
       "   de    en    ga    gd    mg    pt \n",
       "    1 47042  1105     6     1     2 "
      ]
     },
     "metadata": {},
     "output_type": "display_data"
    }
   ],
   "source": [
    "# Detect the language of each speech in the filtered data\n",
    "speeches$language <- cld2::detect_language(speeches$text)\n",
    "\n",
    "# View the detected language distribution\n",
    "table(speeches$language)"
   ]
  },
  {
   "cell_type": "code",
   "execution_count": 7,
   "id": "ad3a9f4d-3236-40d8-a7d9-3a5521438fb8",
   "metadata": {},
   "outputs": [
    {
     "data": {
      "text/plain": [
       "      dail           vol              no             date           \n",
       " Min.   :33     Min.   : 992    Min.   : 1.00   Min.   :2020-02-20  \n",
       " 1st Qu.:33     1st Qu.:1009    1st Qu.: 2.00   1st Qu.:2021-11-10  \n",
       " Median :33     Median :1025    Median : 4.00   Median :2022-10-25  \n",
       " Mean   :33     Mean   :1025    Mean   : 3.82   Mean   :2022-10-01  \n",
       " 3rd Qu.:33     3rd Qu.:1042    3rd Qu.: 5.00   3rd Qu.:2023-10-12  \n",
       " Max.   :33     Max.   :1061    Max.   :10.00   Max.   :2024-11-07  \n",
       " NA's   :1843   NA's   :35371   NA's   :35371   NA's   :1843        \n",
       " speaker_name       speaker_role       constituency          party          \n",
       " Length:48885       Length:48885       Length:48885       Length:48885      \n",
       " Class :character   Class :character   Class :character   Class :character  \n",
       " Mode  :character   Mode  :character   Mode  :character   Mode  :character  \n",
       "                                                                            \n",
       "                                                                            \n",
       "                                                                            \n",
       "                                                                            \n",
       "     text             language        \n",
       " Length:48885       Length:48885      \n",
       " Class :character   Class :character  \n",
       " Mode  :character   Mode  :character  \n",
       "                                      \n",
       "                                      \n",
       "                                      \n",
       "                                      "
      ]
     },
     "metadata": {},
     "output_type": "display_data"
    }
   ],
   "source": [
    "# Filter the speeches to keep only those detected as Irish (ga)\n",
    "speeches_ga <- speeches[speeches$language == \"ga\", ]\n",
    "\n",
    "# Display the first 5 rows of speeches where the language is Irish (ga)\n",
    "#head(speeches_ga, 20)\n",
    "\n",
    "# Note: \n",
    "\n",
    "# 1. Texts containing both English and Irish are detected as Gaelic if there is a substantial amount of Irish text. \n",
    "#For this assignment, such mixed texts will be dropped. A potential solution for future cases could involve sentence-level language detection, \n",
    "#where the text is split into sentences, the language of each sentence is identified, and Irish sentences are removed while keeping the English ones. \n",
    "#Another approach would be to apply Irish language dictionaries during tokenization and stopword removal to better handle Irish text.\n",
    "\n",
    "# 2. TEXCAT function performed poorly for short texts and gave worse results (multiple languages detected). CLD2 performed better. \n",
    "\n",
    "# Keeping speeches where language is English\n",
    "speeches_en <- speeches[speeches$language == \"en\", ]\n",
    "\n",
    "# Verify the new dataset\n",
    "summary(speeches_en)"
   ]
  },
  {
   "cell_type": "code",
   "execution_count": 8,
   "id": "5bce8833-78ac-4d5d-8f97-e72fa6b7d011",
   "metadata": {
    "scrolled": true
   },
   "outputs": [
    {
     "name": "stderr",
     "output_type": "stream",
     "text": [
      "Warning message:\n",
      "“NA is replaced by empty string”\n"
     ]
    }
   ],
   "source": [
    "# Part 1: Modelling Topics\n",
    "\n",
    "# Creating DFM\n",
    "speeches_dfm <- speeches_en |>\n",
    "  quanteda::corpus(text_field = \"text\") |>\n",
    "  quanteda::tokens(remove_punct = TRUE, remove_numbers = TRUE) |>\n",
    "  quanteda::tokens_remove(pattern = stopwords::stopwords(\"english\")) |>\n",
    "  quanteda::tokens_wordstem() |>\n",
    "  quanteda::dfm()"
   ]
  },
  {
   "cell_type": "code",
   "execution_count": 9,
   "id": "c7d697db-0c69-4959-972c-3e44ccc5b510",
   "metadata": {},
   "outputs": [
    {
     "data": {
      "text/plain": [
       "Document-feature matrix of: 46,878 documents, 33,097 features (99.86% sparse) and 9 docvars.\n",
       "       features\n",
       "docs    youth justic strategi quit posit document young peopl ireland front\n",
       "  text1     2      1        4    2     1        1     2     2       1     1\n",
       "  text2     0      0        0    0     0        0     0     0       0     0\n",
       "  text3     0      0        0    0     0        0     0     0       0     0\n",
       "  text4     0      0        0    0     0        0     0     0       0     0\n",
       "  text5     0      0        0    0     0        0     0     2       1     0\n",
       "  text6     0      0        0    0     0        0     0     1       1     0\n",
       "[ reached max_ndoc ... 46,872 more documents, reached max_nfeat ... 33,087 more features ]"
      ]
     },
     "metadata": {},
     "output_type": "display_data"
    }
   ],
   "source": [
    "# Remove rows with no tokens (empty rows)\n",
    "speeches_dfm <- speeches_dfm[quanteda::ntoken(speeches_dfm) > 0, ]\n",
    "speeches_dfm"
   ]
  },
  {
   "cell_type": "code",
   "execution_count": 10,
   "id": "28176b46-6db8-4e2c-bf9c-e05c6b4f853a",
   "metadata": {},
   "outputs": [
    {
     "data": {
      "text/plain": [
       "'log Lik.' -21691373 (df=165485)"
      ]
     },
     "metadata": {},
     "output_type": "display_data"
    },
    {
     "data": {
      "text/html": [
       "<table class=\"dataframe\">\n",
       "<caption>A matrix: 10 × 5 of type chr</caption>\n",
       "<thead>\n",
       "\t<tr><th scope=col>Topic 1</th><th scope=col>Topic 2</th><th scope=col>Topic 3</th><th scope=col>Topic 4</th><th scope=col>Topic 5</th></tr>\n",
       "</thead>\n",
       "<tbody>\n",
       "\t<tr><td>peopl</td><td>committe</td><td>hous   </td><td>servic  </td><td>ireland</td></tr>\n",
       "\t<tr><td>get  </td><td>deputi  </td><td>€      </td><td>need    </td><td>govern </td></tr>\n",
       "\t<tr><td>go   </td><td>member  </td><td>year   </td><td>work    </td><td>state  </td></tr>\n",
       "\t<tr><td>can  </td><td>mr      </td><td>local  </td><td>support </td><td>right  </td></tr>\n",
       "\t<tr><td>one  </td><td>report  </td><td>plan   </td><td>health  </td><td>countri</td></tr>\n",
       "\t<tr><td>come </td><td>legisl  </td><td>govern </td><td>school  </td><td>issu   </td></tr>\n",
       "\t<tr><td>want </td><td>bill    </td><td>scheme </td><td>peopl   </td><td>irish  </td></tr>\n",
       "\t<tr><td>know </td><td>make    </td><td>fund   </td><td>children</td><td>import </td></tr>\n",
       "\t<tr><td>look </td><td>may     </td><td>cost   </td><td>provid  </td><td>must   </td></tr>\n",
       "\t<tr><td>need </td><td>question</td><td>develop</td><td>depart  </td><td>also   </td></tr>\n",
       "</tbody>\n",
       "</table>\n"
      ],
      "text/latex": [
       "A matrix: 10 × 5 of type chr\n",
       "\\begin{tabular}{lllll}\n",
       " Topic 1 & Topic 2 & Topic 3 & Topic 4 & Topic 5\\\\\n",
       "\\hline\n",
       "\t peopl & committe & hous    & servic   & ireland\\\\\n",
       "\t get   & deputi   & €       & need     & govern \\\\\n",
       "\t go    & member   & year    & work     & state  \\\\\n",
       "\t can   & mr       & local   & support  & right  \\\\\n",
       "\t one   & report   & plan    & health   & countri\\\\\n",
       "\t come  & legisl   & govern  & school   & issu   \\\\\n",
       "\t want  & bill     & scheme  & peopl    & irish  \\\\\n",
       "\t know  & make     & fund    & children & import \\\\\n",
       "\t look  & may      & cost    & provid   & must   \\\\\n",
       "\t need  & question & develop & depart   & also   \\\\\n",
       "\\end{tabular}\n"
      ],
      "text/markdown": [
       "\n",
       "A matrix: 10 × 5 of type chr\n",
       "\n",
       "| Topic 1 | Topic 2 | Topic 3 | Topic 4 | Topic 5 |\n",
       "|---|---|---|---|---|\n",
       "| peopl | committe | hous    | servic   | ireland |\n",
       "| get   | deputi   | €       | need     | govern  |\n",
       "| go    | member   | year    | work     | state   |\n",
       "| can   | mr       | local   | support  | right   |\n",
       "| one   | report   | plan    | health   | countri |\n",
       "| come  | legisl   | govern  | school   | issu    |\n",
       "| want  | bill     | scheme  | peopl    | irish   |\n",
       "| know  | make     | fund    | children | import  |\n",
       "| look  | may      | cost    | provid   | must    |\n",
       "| need  | question | develop | depart   | also    |\n",
       "\n"
      ],
      "text/plain": [
       "      Topic 1 Topic 2  Topic 3 Topic 4  Topic 5\n",
       " [1,] peopl   committe hous    servic   ireland\n",
       " [2,] get     deputi   €       need     govern \n",
       " [3,] go      member   year    work     state  \n",
       " [4,] can     mr       local   support  right  \n",
       " [5,] one     report   plan    health   countri\n",
       " [6,] come    legisl   govern  school   issu   \n",
       " [7,] want    bill     scheme  peopl    irish  \n",
       " [8,] know    make     fund    children import \n",
       " [9,] look    may      cost    provid   must   \n",
       "[10,] need    question develop depart   also   "
      ]
     },
     "metadata": {},
     "output_type": "display_data"
    }
   ],
   "source": [
    "# Perform LDA topic modelling for 5 topics\n",
    "speeches_lda_5 <- topicmodels::LDA(\n",
    "  speeches_dfm,\n",
    "  k = 5,\n",
    "  method = \"Gibbs\"\n",
    ")\n",
    "\n",
    "# Checking Log-likelihood for speeches_lda_5\n",
    "log_lik_5 <- topicmodels::logLik(speeches_lda_5)\n",
    "log_lik_5\n",
    "\n",
    "# Printing top 10 terms across topics\n",
    "terms_top10_lda5 <- topicmodels::terms(speeches_lda_5, 10)\n",
    "terms_top10_lda5"
   ]
  },
  {
   "cell_type": "code",
   "execution_count": 11,
   "id": "47381047-96d2-4e71-8bc4-3ed9790bd56b",
   "metadata": {},
   "outputs": [
    {
     "data": {
      "text/plain": [
       "'log Lik.' -21691373 (df=165485)"
      ]
     },
     "metadata": {},
     "output_type": "display_data"
    },
    {
     "data": {
      "text/html": [
       "<table class=\"dataframe\">\n",
       "<caption>A matrix: 10 × 10 of type chr</caption>\n",
       "<thead>\n",
       "\t<tr><th scope=col>Topic 1</th><th scope=col>Topic 2</th><th scope=col>Topic 3</th><th scope=col>Topic 4</th><th scope=col>Topic 5</th><th scope=col>Topic 6</th><th scope=col>Topic 7</th><th scope=col>Topic 8</th><th scope=col>Topic 9</th><th scope=col>Topic 10</th></tr>\n",
       "</thead>\n",
       "<tbody>\n",
       "\t<tr><td>can      </td><td>servic  </td><td>ireland </td><td>peopl </td><td>hous   </td><td>depart  </td><td>€      </td><td>deputi  </td><td>legisl </td><td>get  </td></tr>\n",
       "\t<tr><td>use      </td><td>need    </td><td>right   </td><td>minist</td><td>local  </td><td>work    </td><td>year   </td><td>question</td><td>bill   </td><td>can  </td></tr>\n",
       "\t<tr><td>transport</td><td>health  </td><td>countri </td><td>govern</td><td>plan   </td><td>programm</td><td>cost   </td><td>committe</td><td>amend  </td><td>go   </td></tr>\n",
       "\t<tr><td>energi   </td><td>school  </td><td>european</td><td>go    </td><td>author </td><td>support </td><td>increas</td><td>mr      </td><td>case   </td><td>look </td></tr>\n",
       "\t<tr><td>farmer   </td><td>peopl   </td><td>state   </td><td>state </td><td>area   </td><td>develop </td><td>million</td><td>ask     </td><td>report </td><td>one  </td></tr>\n",
       "\t<tr><td>climat   </td><td>children</td><td>issu    </td><td>time  </td><td>home   </td><td>nation  </td><td>busi   </td><td>thank   </td><td>act    </td><td>come </td></tr>\n",
       "\t<tr><td>need     </td><td>care    </td><td>eu      </td><td>get   </td><td>deputi </td><td>also    </td><td>scheme </td><td>member  </td><td>section</td><td>peopl</td></tr>\n",
       "\t<tr><td>industri </td><td>hospit  </td><td>irish   </td><td>mani  </td><td>develop</td><td>provid  </td><td>pay    </td><td>meet    </td><td>inform </td><td>want </td></tr>\n",
       "\t<tr><td>ireland  </td><td>support </td><td>govern  </td><td>know  </td><td>build  </td><td>includ  </td><td>tax    </td><td>make    </td><td>relat  </td><td>point</td></tr>\n",
       "\t<tr><td>product  </td><td>disabl  </td><td>also    </td><td>happen</td><td>counti </td><td>new     </td><td>budget </td><td>wit     </td><td>person </td><td>work </td></tr>\n",
       "</tbody>\n",
       "</table>\n"
      ],
      "text/latex": [
       "A matrix: 10 × 10 of type chr\n",
       "\\begin{tabular}{llllllllll}\n",
       " Topic 1 & Topic 2 & Topic 3 & Topic 4 & Topic 5 & Topic 6 & Topic 7 & Topic 8 & Topic 9 & Topic 10\\\\\n",
       "\\hline\n",
       "\t can       & servic   & ireland  & peopl  & hous    & depart   & €       & deputi   & legisl  & get  \\\\\n",
       "\t use       & need     & right    & minist & local   & work     & year    & question & bill    & can  \\\\\n",
       "\t transport & health   & countri  & govern & plan    & programm & cost    & committe & amend   & go   \\\\\n",
       "\t energi    & school   & european & go     & author  & support  & increas & mr       & case    & look \\\\\n",
       "\t farmer    & peopl    & state    & state  & area    & develop  & million & ask      & report  & one  \\\\\n",
       "\t climat    & children & issu     & time   & home    & nation   & busi    & thank    & act     & come \\\\\n",
       "\t need      & care     & eu       & get    & deputi  & also     & scheme  & member   & section & peopl\\\\\n",
       "\t industri  & hospit   & irish    & mani   & develop & provid   & pay     & meet     & inform  & want \\\\\n",
       "\t ireland   & support  & govern   & know   & build   & includ   & tax     & make     & relat   & point\\\\\n",
       "\t product   & disabl   & also     & happen & counti  & new      & budget  & wit      & person  & work \\\\\n",
       "\\end{tabular}\n"
      ],
      "text/markdown": [
       "\n",
       "A matrix: 10 × 10 of type chr\n",
       "\n",
       "| Topic 1 | Topic 2 | Topic 3 | Topic 4 | Topic 5 | Topic 6 | Topic 7 | Topic 8 | Topic 9 | Topic 10 |\n",
       "|---|---|---|---|---|---|---|---|---|---|\n",
       "| can       | servic   | ireland  | peopl  | hous    | depart   | €       | deputi   | legisl  | get   |\n",
       "| use       | need     | right    | minist | local   | work     | year    | question | bill    | can   |\n",
       "| transport | health   | countri  | govern | plan    | programm | cost    | committe | amend   | go    |\n",
       "| energi    | school   | european | go     | author  | support  | increas | mr       | case    | look  |\n",
       "| farmer    | peopl    | state    | state  | area    | develop  | million | ask      | report  | one   |\n",
       "| climat    | children | issu     | time   | home    | nation   | busi    | thank    | act     | come  |\n",
       "| need      | care     | eu       | get    | deputi  | also     | scheme  | member   | section | peopl |\n",
       "| industri  | hospit   | irish    | mani   | develop | provid   | pay     | meet     | inform  | want  |\n",
       "| ireland   | support  | govern   | know   | build   | includ   | tax     | make     | relat   | point |\n",
       "| product   | disabl   | also     | happen | counti  | new      | budget  | wit      | person  | work  |\n",
       "\n"
      ],
      "text/plain": [
       "      Topic 1   Topic 2  Topic 3  Topic 4 Topic 5 Topic 6  Topic 7 Topic 8 \n",
       " [1,] can       servic   ireland  peopl   hous    depart   €       deputi  \n",
       " [2,] use       need     right    minist  local   work     year    question\n",
       " [3,] transport health   countri  govern  plan    programm cost    committe\n",
       " [4,] energi    school   european go      author  support  increas mr      \n",
       " [5,] farmer    peopl    state    state   area    develop  million ask     \n",
       " [6,] climat    children issu     time    home    nation   busi    thank   \n",
       " [7,] need      care     eu       get     deputi  also     scheme  member  \n",
       " [8,] industri  hospit   irish    mani    develop provid   pay     meet    \n",
       " [9,] ireland   support  govern   know    build   includ   tax     make    \n",
       "[10,] product   disabl   also     happen  counti  new      budget  wit     \n",
       "      Topic 9 Topic 10\n",
       " [1,] legisl  get     \n",
       " [2,] bill    can     \n",
       " [3,] amend   go      \n",
       " [4,] case    look    \n",
       " [5,] report  one     \n",
       " [6,] act     come    \n",
       " [7,] section peopl   \n",
       " [8,] inform  want    \n",
       " [9,] relat   point   \n",
       "[10,] person  work    "
      ]
     },
     "metadata": {},
     "output_type": "display_data"
    }
   ],
   "source": [
    "# Perform LDA topic modelling for 10 topics\n",
    "speeches_lda_10 <- topicmodels::LDA(\n",
    "  speeches_dfm,\n",
    "  k = 10,\n",
    "  method = \"Gibbs\"\n",
    ")\n",
    "\n",
    "# Checking Log-likelihood for speeches_lda_10\n",
    "log_lik_10 <- topicmodels::logLik(speeches_lda_5)\n",
    "log_lik_10\n",
    "\n",
    "# Printing top 10 terms across topics\n",
    "terms_top10_lda10 <- topicmodels::terms(speeches_lda_10, 10)\n",
    "terms_top10_lda10"
   ]
  },
  {
   "cell_type": "code",
   "execution_count": 12,
   "id": "496df9da-ba03-4588-a1cf-04f643038bfa",
   "metadata": {},
   "outputs": [
    {
     "data": {
      "text/plain": [
       "'log Lik.' -21049908 (df=231679)"
      ]
     },
     "metadata": {},
     "output_type": "display_data"
    },
    {
     "data": {
      "text/html": [
       "<table class=\"dataframe\">\n",
       "<caption>A matrix: 10 × 7 of type chr</caption>\n",
       "<thead>\n",
       "\t<tr><th scope=col>Topic 1</th><th scope=col>Topic 2</th><th scope=col>Topic 3</th><th scope=col>Topic 4</th><th scope=col>Topic 5</th><th scope=col>Topic 6</th><th scope=col>Topic 7</th></tr>\n",
       "</thead>\n",
       "<tbody>\n",
       "\t<tr><td>€      </td><td>ireland </td><td>servic  </td><td>legisl </td><td>plan   </td><td>peopl</td><td>deputi  </td></tr>\n",
       "\t<tr><td>hous   </td><td>govern  </td><td>need    </td><td>bill   </td><td>develop</td><td>get  </td><td>question</td></tr>\n",
       "\t<tr><td>year   </td><td>state   </td><td>health  </td><td>report </td><td>local  </td><td>go   </td><td>minist  </td></tr>\n",
       "\t<tr><td>govern </td><td>countri </td><td>school  </td><td>amend  </td><td>area   </td><td>one  </td><td>committe</td></tr>\n",
       "\t<tr><td>scheme </td><td>right   </td><td>work    </td><td>case   </td><td>work   </td><td>can  </td><td>ask     </td></tr>\n",
       "\t<tr><td>cost   </td><td>irish   </td><td>support </td><td>process</td><td>author </td><td>want </td><td>mr      </td></tr>\n",
       "\t<tr><td>increas</td><td>european</td><td>peopl   </td><td>act    </td><td>project</td><td>know </td><td>thank   </td></tr>\n",
       "\t<tr><td>home   </td><td>eu      </td><td>children</td><td>inform </td><td>fund   </td><td>come </td><td>member  </td></tr>\n",
       "\t<tr><td>busi   </td><td>issu    </td><td>care    </td><td>provid </td><td>build  </td><td>need </td><td>make    </td></tr>\n",
       "\t<tr><td>million</td><td>us      </td><td>provid  </td><td>section</td><td>depart </td><td>look </td><td>meet    </td></tr>\n",
       "</tbody>\n",
       "</table>\n"
      ],
      "text/latex": [
       "A matrix: 10 × 7 of type chr\n",
       "\\begin{tabular}{lllllll}\n",
       " Topic 1 & Topic 2 & Topic 3 & Topic 4 & Topic 5 & Topic 6 & Topic 7\\\\\n",
       "\\hline\n",
       "\t €       & ireland  & servic   & legisl  & plan    & peopl & deputi  \\\\\n",
       "\t hous    & govern   & need     & bill    & develop & get   & question\\\\\n",
       "\t year    & state    & health   & report  & local   & go    & minist  \\\\\n",
       "\t govern  & countri  & school   & amend   & area    & one   & committe\\\\\n",
       "\t scheme  & right    & work     & case    & work    & can   & ask     \\\\\n",
       "\t cost    & irish    & support  & process & author  & want  & mr      \\\\\n",
       "\t increas & european & peopl    & act     & project & know  & thank   \\\\\n",
       "\t home    & eu       & children & inform  & fund    & come  & member  \\\\\n",
       "\t busi    & issu     & care     & provid  & build   & need  & make    \\\\\n",
       "\t million & us       & provid   & section & depart  & look  & meet    \\\\\n",
       "\\end{tabular}\n"
      ],
      "text/markdown": [
       "\n",
       "A matrix: 10 × 7 of type chr\n",
       "\n",
       "| Topic 1 | Topic 2 | Topic 3 | Topic 4 | Topic 5 | Topic 6 | Topic 7 |\n",
       "|---|---|---|---|---|---|---|\n",
       "| €       | ireland  | servic   | legisl  | plan    | peopl | deputi   |\n",
       "| hous    | govern   | need     | bill    | develop | get   | question |\n",
       "| year    | state    | health   | report  | local   | go    | minist   |\n",
       "| govern  | countri  | school   | amend   | area    | one   | committe |\n",
       "| scheme  | right    | work     | case    | work    | can   | ask      |\n",
       "| cost    | irish    | support  | process | author  | want  | mr       |\n",
       "| increas | european | peopl    | act     | project | know  | thank    |\n",
       "| home    | eu       | children | inform  | fund    | come  | member   |\n",
       "| busi    | issu     | care     | provid  | build   | need  | make     |\n",
       "| million | us       | provid   | section | depart  | look  | meet     |\n",
       "\n"
      ],
      "text/plain": [
       "      Topic 1 Topic 2  Topic 3  Topic 4 Topic 5 Topic 6 Topic 7 \n",
       " [1,] €       ireland  servic   legisl  plan    peopl   deputi  \n",
       " [2,] hous    govern   need     bill    develop get     question\n",
       " [3,] year    state    health   report  local   go      minist  \n",
       " [4,] govern  countri  school   amend   area    one     committe\n",
       " [5,] scheme  right    work     case    work    can     ask     \n",
       " [6,] cost    irish    support  process author  want    mr      \n",
       " [7,] increas european peopl    act     project know    thank   \n",
       " [8,] home    eu       children inform  fund    come    member  \n",
       " [9,] busi    issu     care     provid  build   need    make    \n",
       "[10,] million us       provid   section depart  look    meet    "
      ]
     },
     "metadata": {},
     "output_type": "display_data"
    }
   ],
   "source": [
    "# Perform LDA topic modelling for 10 topics\n",
    "speeches_lda_7 <- topicmodels::LDA(\n",
    "  speeches_dfm,\n",
    "  k = 7,\n",
    "  method = \"Gibbs\"\n",
    ")\n",
    "\n",
    "# Checking Log-likelihood for speeches_lda_10\n",
    "log_lik_7 <- topicmodels::logLik(speeches_lda_7)\n",
    "log_lik_7\n",
    "\n",
    "# Printing top 10 terms across topics\n",
    "terms_top10_lda7 <- topicmodels::terms(speeches_lda_7, 10)\n",
    "terms_top10_lda7"
   ]
  },
  {
   "cell_type": "code",
   "execution_count": 18,
   "id": "3c72d049-cc16-49da-8da4-ad58a021ec44",
   "metadata": {},
   "outputs": [
    {
     "data": {
      "text/html": [
       "'LDA_Gibbs'"
      ],
      "text/latex": [
       "'LDA\\_Gibbs'"
      ],
      "text/markdown": [
       "'LDA_Gibbs'"
      ],
      "text/plain": [
       "[1] \"LDA_Gibbs\"\n",
       "attr(,\"package\")\n",
       "[1] \"topicmodels\""
      ]
     },
     "metadata": {},
     "output_type": "display_data"
    },
    {
     "data": {
      "text/html": [
       "48885"
      ],
      "text/latex": [
       "48885"
      ],
      "text/markdown": [
       "48885"
      ],
      "text/plain": [
       "[1] 48885"
      ]
     },
     "metadata": {},
     "output_type": "display_data"
    },
    {
     "data": {
      "text/html": [
       "46878"
      ],
      "text/latex": [
       "46878"
      ],
      "text/markdown": [
       "46878"
      ],
      "text/plain": [
       "[1] 46878"
      ]
     },
     "metadata": {},
     "output_type": "display_data"
    }
   ],
   "source": [
    "# Note: Will choose the model with 7 topics, since it offers\n",
    "# comparatively well-separated, interpretable topics without overfitting. Log-likelihood does not differ much. \n",
    "# Some other methods may give more robust results. \n",
    "\n",
    "# Topic 1: Housing crisis\n",
    "# Topic 2: EU relations \n",
    "# Topic 3: Social services \n",
    "# Topic 4: Legislation and law \n",
    "# Topic 5: Development and infrastructure \n",
    "# Topic 6: Social needs and engagement \n",
    "# Topic 7: Parliamentary proceedings \n",
    "\n",
    "# Extract the topic distribution (gamma values) from the LDA model\n",
    "topics_gamma <- posterior(speeches_lda_7)$topics\n",
    "\n",
    "# Checking the speeches LDA class and length \n",
    "class(speeches_lda_7)\n",
    "nrow(speeches_en)\n",
    "nrow(topics_gamma)                                                    "
   ]
  },
  {
   "cell_type": "code",
   "execution_count": 19,
   "id": "885bcb9f-8839-4e18-883c-f0a0203a75c0",
   "metadata": {},
   "outputs": [
    {
     "data": {
      "text/html": [
       "<table class=\"dataframe\">\n",
       "<caption>A tibble: 6 × 4</caption>\n",
       "<thead>\n",
       "\t<tr><th scope=col>date</th><th scope=col>party</th><th scope=col>dominant_topic</th><th scope=col>topic_label</th></tr>\n",
       "\t<tr><th scope=col>&lt;date&gt;</th><th scope=col>&lt;chr&gt;</th><th scope=col>&lt;int&gt;</th><th scope=col>&lt;chr&gt;</th></tr>\n",
       "</thead>\n",
       "<tbody>\n",
       "\t<tr><td>2023-06-21</td><td>Fianna Fáil</td><td>2</td><td>EU relations               </td></tr>\n",
       "\t<tr><td>2023-11-16</td><td>Fine Gael  </td><td>4</td><td>Legislation and law        </td></tr>\n",
       "\t<tr><td>2023-12-05</td><td>Fianna Fáil</td><td>6</td><td>Social needs and engagement</td></tr>\n",
       "\t<tr><td>2023-03-22</td><td>Fianna Fáil</td><td>1</td><td>Housing crisis             </td></tr>\n",
       "\t<tr><td>2022-05-12</td><td>NA         </td><td>4</td><td>Legislation and law        </td></tr>\n",
       "\t<tr><td>2023-06-13</td><td>NA         </td><td>3</td><td>Social services            </td></tr>\n",
       "</tbody>\n",
       "</table>\n"
      ],
      "text/latex": [
       "A tibble: 6 × 4\n",
       "\\begin{tabular}{llll}\n",
       " date & party & dominant\\_topic & topic\\_label\\\\\n",
       " <date> & <chr> & <int> & <chr>\\\\\n",
       "\\hline\n",
       "\t 2023-06-21 & Fianna Fáil & 2 & EU relations               \\\\\n",
       "\t 2023-11-16 & Fine Gael   & 4 & Legislation and law        \\\\\n",
       "\t 2023-12-05 & Fianna Fáil & 6 & Social needs and engagement\\\\\n",
       "\t 2023-03-22 & Fianna Fáil & 1 & Housing crisis             \\\\\n",
       "\t 2022-05-12 & NA          & 4 & Legislation and law        \\\\\n",
       "\t 2023-06-13 & NA          & 3 & Social services            \\\\\n",
       "\\end{tabular}\n"
      ],
      "text/markdown": [
       "\n",
       "A tibble: 6 × 4\n",
       "\n",
       "| date &lt;date&gt; | party &lt;chr&gt; | dominant_topic &lt;int&gt; | topic_label &lt;chr&gt; |\n",
       "|---|---|---|---|\n",
       "| 2023-06-21 | Fianna Fáil | 2 | EU relations                |\n",
       "| 2023-11-16 | Fine Gael   | 4 | Legislation and law         |\n",
       "| 2023-12-05 | Fianna Fáil | 6 | Social needs and engagement |\n",
       "| 2023-03-22 | Fianna Fáil | 1 | Housing crisis              |\n",
       "| 2022-05-12 | NA          | 4 | Legislation and law         |\n",
       "| 2023-06-13 | NA          | 3 | Social services             |\n",
       "\n"
      ],
      "text/plain": [
       "  date       party       dominant_topic topic_label                \n",
       "1 2023-06-21 Fianna Fáil 2              EU relations               \n",
       "2 2023-11-16 Fine Gael   4              Legislation and law        \n",
       "3 2023-12-05 Fianna Fáil 6              Social needs and engagement\n",
       "4 2023-03-22 Fianna Fáil 1              Housing crisis             \n",
       "5 2022-05-12 NA          4              Legislation and law        \n",
       "6 2023-06-13 NA          3              Social services            "
      ]
     },
     "metadata": {},
     "output_type": "display_data"
    }
   ],
   "source": [
    "# Ensure both have the same number of rows and remove rows where topic is missing\n",
    "if (nrow(speeches_en) != nrow(topics_gamma)) {\n",
    "  # Assign topics only for rows that have corresponding topics\n",
    "  speeches_en$dominant_topic <- NA\n",
    "  speeches_en$dominant_topic[1:nrow(topics_gamma)] <- apply(topics_gamma, 1, function(x) which.max(x))\n",
    "  \n",
    "  # Remove rows with missing topics (NA values)\n",
    "  speeches_en <- speeches_en %>%\n",
    "    filter(!is.na(dominant_topic))\n",
    "}\n",
    "\n",
    "# Define the topic labels\n",
    "topic_labels <- c(\n",
    "  \"Housing crisis\",\n",
    "  \"EU relations\",\n",
    "  \"Social services\",\n",
    "  \"Legislation and law\",\n",
    "  \"Development and infrastructure\",\n",
    "  \"Social needs and engagement\",\n",
    "  \"Parliamentary proceedings\"\n",
    ")\n",
    "\n",
    "# Map the topic labels to the corresponding dominant topics\n",
    "speeches_en$topic_label <- topic_labels[speeches_en$dominant_topic]\n",
    "                                                            \n",
    "head(speeches_en[, c(\"date\", \"party\", \"dominant_topic\", \"topic_label\")])                                                            "
   ]
  },
  {
   "cell_type": "code",
   "execution_count": 20,
   "id": "b2496ad4-e2a9-4edf-8623-92d10690d00a",
   "metadata": {},
   "outputs": [
    {
     "name": "stdout",
     "output_type": "stream",
     "text": [
      "\n",
      "Party by Topic Frequency Table (Counts)\n",
      "                                          party Development and infrastructure\n",
      " Anti-Austerity Alliance - People Before Profit                            159\n",
      "                                       External                           1763\n",
      "                                    Fianna Fáil                            931\n",
      "                                      Fine Gael                            827\n",
      "                                    Green Party                            349\n",
      "                                    Independent                            466\n",
      "                          Independents 4 Change                              5\n",
      "                                   Labour Party                            162\n",
      "                                      Sinn Féin                            944\n",
      "                               Social Democrats                            190\n",
      " EU relations Housing crisis Legislation and law Parliamentary proceedings\n",
      "          129            194                 159                       217\n",
      "         1453           2133                2045                      2583\n",
      "          861           1228                1157                      1423\n",
      "          743           1080                 940                      1247\n",
      "          339            445                 393                       539\n",
      "          415            557                 461                       666\n",
      "           10             11                  13                        11\n",
      "          151            188                 160                       226\n",
      "          866           1259                1100                      1388\n",
      "          168            241                 219                       282\n",
      " Social needs and engagement Social services\n",
      "                         188             145\n",
      "                        2108            1779\n",
      "                        1257            1050\n",
      "                        1086             874\n",
      "                         457             372\n",
      "                         538             486\n",
      "                          11               9\n",
      "                         178             164\n",
      "                        1201            1029\n",
      "                         263             187\n",
      "\n",
      "Party by Topic Frequency Table (Percentages)\n",
      "                                          party Development and infrastructure\n",
      " Anti-Austerity Alliance - People Before Profit                           13.4\n",
      "                                       External                           12.7\n",
      "                                    Fianna Fáil                           11.8\n",
      "                                      Fine Gael                           12.2\n",
      "                                    Green Party                           12.1\n",
      "                                    Independent                           13.0\n",
      "                          Independents 4 Change                            7.1\n",
      "                                   Labour Party                           13.2\n",
      "                                      Sinn Féin                           12.1\n",
      "                               Social Democrats                           12.3\n",
      " EU relations Housing crisis Legislation and law Parliamentary proceedings\n",
      "         10.8           16.3                13.4                      18.2\n",
      "         10.5           15.4                14.8                      18.6\n",
      "         10.9           15.5                14.6                      18.0\n",
      "         10.9           15.9                13.8                      18.3\n",
      "         11.7           15.4                13.6                      18.6\n",
      "         11.6           15.5                12.8                      18.6\n",
      "         14.3           15.7                18.6                      15.7\n",
      "         12.3           15.3                13.0                      18.4\n",
      "         11.1           16.2                14.1                      17.8\n",
      "         10.8           15.5                14.1                      18.2\n",
      " Social needs and engagement Social services\n",
      "                        15.8            12.2\n",
      "                        15.2            12.8\n",
      "                        15.9            13.3\n",
      "                        16.0            12.9\n",
      "                        15.8            12.9\n",
      "                        15.0            13.5\n",
      "                        15.7            12.9\n",
      "                        14.5            13.3\n",
      "                        15.4            13.2\n",
      "                        17.0            12.1\n"
     ]
    }
   ],
   "source": [
    "# Replacing missing party names \n",
    "speeches_en <- speeches_en %>%\n",
    "  mutate(party = tidyr::replace_na(party, \"External\"))\n",
    "\n",
    "# Counting topics by party\n",
    "party_topic <- speeches_en %>%\n",
    "  count(party, topic_label) %>%\n",
    "  pivot_wider(\n",
    "    names_from = topic_label,\n",
    "    values_from = n,\n",
    "    values_fill = list(n = 0)\n",
    "  ) %>%\n",
    "  arrange(party)\n",
    "\n",
    "# Creating percentage table\n",
    "party_topic_pct <- party_topic %>%\n",
    "  mutate(\n",
    "    total = rowSums(select(., -party)),\n",
    "    across(-c(party, total), ~ round(.x / total * 100, 1))\n",
    "  ) %>%\n",
    "  select(-total)\n",
    "\n",
    "# Printing results\n",
    "cat(\"\\nParty by Topic Frequency Table (Counts)\\n\")\n",
    "print(as.data.frame(party_topic), row.names = FALSE)\n",
    "\n",
    "cat(\"\\nParty by Topic Frequency Table (Percentages)\\n\")\n",
    "print(as.data.frame(party_topic_pct), row.names = FALSE)\n",
    "\n",
    "# The table below shows that there are no significant differences in the topics discussed (measured by the most dominant topic per speech) \n",
    "# across parties. \n",
    "# While the percentage distribution reveals some variation in topic coverage for the Independents for Change party, \n",
    "# this is likely due to the small sample size. \n",
    "# To obtain more robust results (possible), alternative modeling techniques should be explored.\n",
    "# The results will not be plotted further. "
   ]
  },
  {
   "cell_type": "code",
   "execution_count": 21,
   "id": "159b3498-0544-4f2c-91e3-80c710940ec2",
   "metadata": {},
   "outputs": [
    {
     "name": "stdout",
     "output_type": "stream",
     "text": [
      "\n",
      "Year by Topic Frequency Table (Counts)\n",
      " year Development and infrastructure EU relations Housing crisis\n",
      " 2020                            615          480            758\n",
      " 2021                            978          897           1293\n",
      " 2022                           1526         1357           1916\n",
      " 2023                           1449         1264           1690\n",
      " 2024                           1026          967           1388\n",
      " Legislation and law Parliamentary proceedings Social needs and engagement\n",
      "                 670                       896                         729\n",
      "                1157                      1483                        1286\n",
      "                1738                      2200                        1926\n",
      "                1619                      2136                        1702\n",
      "                1214                      1545                        1353\n",
      " Social services\n",
      "             634\n",
      "            1058\n",
      "            1569\n",
      "            1472\n",
      "            1127\n",
      "\n",
      "Year by Topic Frequency Table (Percentages)\n",
      " year Development and infrastructure EU relations Housing crisis\n",
      " 2020                           12.9         10.0           15.9\n",
      " 2021                           12.0         11.0           15.9\n",
      " 2022                           12.5         11.1           15.7\n",
      " 2023                           12.8         11.2           14.9\n",
      " 2024                           11.9         11.2           16.1\n",
      " Legislation and law Parliamentary proceedings Social needs and engagement\n",
      "                14.0                      18.7                        15.2\n",
      "                14.2                      18.2                        15.8\n",
      "                14.2                      18.0                        15.7\n",
      "                14.3                      18.8                        15.0\n",
      "                14.1                      17.9                        15.7\n",
      " Social services\n",
      "            13.3\n",
      "            13.0\n",
      "            12.8\n",
      "            13.0\n",
      "            13.1\n"
     ]
    }
   ],
   "source": [
    "# Topics by Year\n",
    "\n",
    "# Extracting year from date and counting topics by year\n",
    "year_topic <- speeches_en %>%\n",
    "  mutate(year = format(date, \"%Y\")) %>%\n",
    "  filter(!is.na(year)) %>%\n",
    "  count(year, topic_label) %>%\n",
    "  pivot_wider(\n",
    "    names_from = topic_label,\n",
    "    values_from = n,\n",
    "    values_fill = 0\n",
    "  ) %>%\n",
    "  arrange(year)\n",
    "\n",
    "# Creating percentage table\n",
    "year_topic_pct <- year_topic %>%\n",
    "  mutate(\n",
    "    total = rowSums(select(., -year)),\n",
    "    across(-c(year, total), ~ round(.x / total * 100, 1))\n",
    "  ) %>%\n",
    "  select(-total)\n",
    "\n",
    "# Printing results \n",
    "cat(\"\\nYear by Topic Frequency Table (Counts)\\n\")\n",
    "print(as.data.frame(year_topic), row.names = FALSE)\n",
    "\n",
    "cat(\"\\nYear by Topic Frequency Table (Percentages)\\n\")\n",
    "print(as.data.frame(year_topic_pct), row.names = FALSE)\n",
    "\n",
    "# The results of this analysis demonstrate that there is no major change in the discussed topics across years.\n",
    "# Legislation and law, followed by Houseing crisis and EU relations remain the most discussed ones from 2020-2024. \n",
    "# To obtain more robust results (possible), alternative modeling techniques should be explored."
   ]
  },
  {
   "cell_type": "code",
   "execution_count": 22,
   "id": "fc9fea35-36bf-49dc-ade9-1456c74f0b8b",
   "metadata": {},
   "outputs": [
    {
     "data": {
      "text/plain": [
       "Document-feature matrix of: 46,878 documents, 20 features (90.85% sparse) and 9 docvars.\n",
       "       features\n",
       "docs    CULTURE.CULTURE-HIGH CULTURE.CULTURE-POPULAR CULTURE.SPORT CULTURE\n",
       "  text1                    0                       0             0       0\n",
       "  text2                    0                       0             0       0\n",
       "  text3                    0                       0             0       0\n",
       "  text4                    0                       0             0       0\n",
       "  text5                    0                       0             0       0\n",
       "  text6                    0                       0             0       0\n",
       "       features\n",
       "docs    ECONOMY.+STATE+ ECONOMY.=STATE= ECONOMY.-STATE-\n",
       "  text1              10               5               1\n",
       "  text2               0               0               0\n",
       "  text3               1               0               0\n",
       "  text4               0               0               0\n",
       "  text5              14               3               5\n",
       "  text6               2               2               0\n",
       "       features\n",
       "docs    ENVIRONMENT.CON ENVIRONMENT ENVIRONMENT.PRO ENVIRONMENT GROUPS.ETHNIC\n",
       "  text1                           0                           0             0\n",
       "  text2                           0                           0             0\n",
       "  text3                           0                           0             0\n",
       "  text4                           0                           0             0\n",
       "  text5                           0                           0             0\n",
       "  text6                           0                           0             0\n",
       "[ reached max_ndoc ... 46,872 more documents, reached max_nfeat ... 10 more features ]"
      ]
     },
     "metadata": {},
     "output_type": "display_data"
    }
   ],
   "source": [
    "# Part 2: Modelling Ideology\n",
    "\n",
    "#Modelling ideology with LG dictionary \n",
    "ideology_dfm <- dfm_lookup(speeches_dfm, data_dictionary_LaverGarry)\n",
    "ideology_dfm"
   ]
  },
  {
   "cell_type": "code",
   "execution_count": 23,
   "id": "eb63952b-df9f-4fc6-9655-e2bf0b3bcd2d",
   "metadata": {},
   "outputs": [
    {
     "data": {
      "text/html": [
       "29133"
      ],
      "text/latex": [
       "29133"
      ],
      "text/markdown": [
       "29133"
      ],
      "text/plain": [
       "[1] 29133"
      ]
     },
     "metadata": {},
     "output_type": "display_data"
    },
    {
     "data": {
      "text/html": [
       "<style>\n",
       ".dl-inline {width: auto; margin:0; padding: 0}\n",
       ".dl-inline>dt, .dl-inline>dd {float: none; width: auto; display: inline-block}\n",
       ".dl-inline>dt::after {content: \":\\0020\"; padding-right: .5ex}\n",
       ".dl-inline>dt:not(:first-of-type) {padding-left: .5ex}\n",
       "</style><dl class=dl-inline><dt>ECONOMY.=STATE=</dt><dd>100264</dd><dt>ECONOMY.+STATE+</dt><dd>57760</dd><dt>INSTITUTIONS.NEUTRAL</dt><dd>32449</dd><dt>ECONOMY.-STATE-</dt><dd>18302</dd><dt>INSTITUTIONS.RADICAL</dt><dd>12874</dd><dt>INSTITUTIONS.CONSERVATIVE</dt><dd>11224</dd><dt>LAW_AND_ORDER.LAW-CONSERVATIVE</dt><dd>9077</dd><dt>VALUES.CONSERVATIVE</dt><dd>8639</dd><dt>RURAL</dt><dd>7972</dd><dt>ENVIRONMENT.PRO ENVIRONMENT</dt><dd>3878</dd><dt>ENVIRONMENT.CON ENVIRONMENT</dt><dd>3177</dd><dt>VALUES.LIBERAL</dt><dd>2741</dd><dt>GROUPS.WOMEN</dt><dd>2477</dd><dt>URBAN</dt><dd>1668</dd><dt>CULTURE.CULTURE-POPULAR</dt><dd>1317</dd></dl>\n"
      ],
      "text/latex": [
       "\\begin{description*}\n",
       "\\item[ECONOMY.=STATE=] 100264\n",
       "\\item[ECONOMY.+STATE+] 57760\n",
       "\\item[INSTITUTIONS.NEUTRAL] 32449\n",
       "\\item[ECONOMY.-STATE-] 18302\n",
       "\\item[INSTITUTIONS.RADICAL] 12874\n",
       "\\item[INSTITUTIONS.CONSERVATIVE] 11224\n",
       "\\item[LAW\\textbackslash{}\\_AND\\textbackslash{}\\_ORDER.LAW-CONSERVATIVE] 9077\n",
       "\\item[VALUES.CONSERVATIVE] 8639\n",
       "\\item[RURAL] 7972\n",
       "\\item[ENVIRONMENT.PRO ENVIRONMENT] 3878\n",
       "\\item[ENVIRONMENT.CON ENVIRONMENT] 3177\n",
       "\\item[VALUES.LIBERAL] 2741\n",
       "\\item[GROUPS.WOMEN] 2477\n",
       "\\item[URBAN] 1668\n",
       "\\item[CULTURE.CULTURE-POPULAR] 1317\n",
       "\\end{description*}\n"
      ],
      "text/markdown": [
       "ECONOMY.=STATE=\n",
       ":   100264ECONOMY.+STATE+\n",
       ":   57760INSTITUTIONS.NEUTRAL\n",
       ":   32449ECONOMY.-STATE-\n",
       ":   18302INSTITUTIONS.RADICAL\n",
       ":   12874INSTITUTIONS.CONSERVATIVE\n",
       ":   11224LAW_AND_ORDER.LAW-CONSERVATIVE\n",
       ":   9077VALUES.CONSERVATIVE\n",
       ":   8639RURAL\n",
       ":   7972ENVIRONMENT.PRO ENVIRONMENT\n",
       ":   3878ENVIRONMENT.CON ENVIRONMENT\n",
       ":   3177VALUES.LIBERAL\n",
       ":   2741GROUPS.WOMEN\n",
       ":   2477URBAN\n",
       ":   1668CULTURE.CULTURE-POPULAR\n",
       ":   1317\n",
       "\n"
      ],
      "text/plain": [
       "               ECONOMY.=STATE=                ECONOMY.+STATE+ \n",
       "                        100264                          57760 \n",
       "          INSTITUTIONS.NEUTRAL                ECONOMY.-STATE- \n",
       "                         32449                          18302 \n",
       "          INSTITUTIONS.RADICAL      INSTITUTIONS.CONSERVATIVE \n",
       "                         12874                          11224 \n",
       "LAW_AND_ORDER.LAW-CONSERVATIVE            VALUES.CONSERVATIVE \n",
       "                          9077                           8639 \n",
       "                         RURAL    ENVIRONMENT.PRO ENVIRONMENT \n",
       "                          7972                           3878 \n",
       "   ENVIRONMENT.CON ENVIRONMENT                 VALUES.LIBERAL \n",
       "                          3177                           2741 \n",
       "                  GROUPS.WOMEN                          URBAN \n",
       "                          2477                           1668 \n",
       "       CULTURE.CULTURE-POPULAR \n",
       "                          1317 "
      ]
     },
     "metadata": {},
     "output_type": "display_data"
    }
   ],
   "source": [
    "# Checking for empty texts\n",
    "sum(rowSums(ideology_dfm) > 0)\n",
    "\n",
    "# Printing top features \n",
    "topfeatures(ideology_dfm, 15)"
   ]
  },
  {
   "cell_type": "code",
   "execution_count": 24,
   "id": "7ec4361d-6d2c-42fb-8710-c59088100f0b",
   "metadata": {},
   "outputs": [
    {
     "data": {
      "text/html": [
       "<table class=\"dataframe\">\n",
       "<caption>A data.frame: 10 × 4</caption>\n",
       "<thead>\n",
       "\t<tr><th></th><th scope=col>doc_id</th><th scope=col>left</th><th scope=col>right</th><th scope=col>net_score</th></tr>\n",
       "\t<tr><th></th><th scope=col>&lt;chr&gt;</th><th scope=col>&lt;dbl&gt;</th><th scope=col>&lt;dbl&gt;</th><th scope=col>&lt;dbl&gt;</th></tr>\n",
       "</thead>\n",
       "<tbody>\n",
       "\t<tr><th scope=row>12981</th><td>text13495</td><td>286</td><td>38</td><td>248</td></tr>\n",
       "\t<tr><th scope=row>17442</th><td>text18164</td><td>233</td><td>23</td><td>210</td></tr>\n",
       "\t<tr><th scope=row>45477</th><td>text47417</td><td>228</td><td>18</td><td>210</td></tr>\n",
       "\t<tr><th scope=row>6457</th><td>text6706 </td><td>228</td><td>29</td><td>199</td></tr>\n",
       "\t<tr><th scope=row>3140</th><td>text3262 </td><td>221</td><td>29</td><td>192</td></tr>\n",
       "\t<tr><th scope=row>40818</th><td>text42560</td><td>201</td><td>22</td><td>179</td></tr>\n",
       "\t<tr><th scope=row>11816</th><td>text12286</td><td>191</td><td>20</td><td>171</td></tr>\n",
       "\t<tr><th scope=row>45481</th><td>text47421</td><td>165</td><td> 8</td><td>157</td></tr>\n",
       "\t<tr><th scope=row>38209</th><td>text39822</td><td>169</td><td>16</td><td>153</td></tr>\n",
       "\t<tr><th scope=row>31336</th><td>text32662</td><td>156</td><td> 9</td><td>147</td></tr>\n",
       "</tbody>\n",
       "</table>\n"
      ],
      "text/latex": [
       "A data.frame: 10 × 4\n",
       "\\begin{tabular}{r|llll}\n",
       "  & doc\\_id & left & right & net\\_score\\\\\n",
       "  & <chr> & <dbl> & <dbl> & <dbl>\\\\\n",
       "\\hline\n",
       "\t12981 & text13495 & 286 & 38 & 248\\\\\n",
       "\t17442 & text18164 & 233 & 23 & 210\\\\\n",
       "\t45477 & text47417 & 228 & 18 & 210\\\\\n",
       "\t6457 & text6706  & 228 & 29 & 199\\\\\n",
       "\t3140 & text3262  & 221 & 29 & 192\\\\\n",
       "\t40818 & text42560 & 201 & 22 & 179\\\\\n",
       "\t11816 & text12286 & 191 & 20 & 171\\\\\n",
       "\t45481 & text47421 & 165 &  8 & 157\\\\\n",
       "\t38209 & text39822 & 169 & 16 & 153\\\\\n",
       "\t31336 & text32662 & 156 &  9 & 147\\\\\n",
       "\\end{tabular}\n"
      ],
      "text/markdown": [
       "\n",
       "A data.frame: 10 × 4\n",
       "\n",
       "| <!--/--> | doc_id &lt;chr&gt; | left &lt;dbl&gt; | right &lt;dbl&gt; | net_score &lt;dbl&gt; |\n",
       "|---|---|---|---|---|\n",
       "| 12981 | text13495 | 286 | 38 | 248 |\n",
       "| 17442 | text18164 | 233 | 23 | 210 |\n",
       "| 45477 | text47417 | 228 | 18 | 210 |\n",
       "| 6457 | text6706  | 228 | 29 | 199 |\n",
       "| 3140 | text3262  | 221 | 29 | 192 |\n",
       "| 40818 | text42560 | 201 | 22 | 179 |\n",
       "| 11816 | text12286 | 191 | 20 | 171 |\n",
       "| 45481 | text47421 | 165 |  8 | 157 |\n",
       "| 38209 | text39822 | 169 | 16 | 153 |\n",
       "| 31336 | text32662 | 156 |  9 | 147 |\n",
       "\n"
      ],
      "text/plain": [
       "      doc_id    left right net_score\n",
       "12981 text13495 286  38    248      \n",
       "17442 text18164 233  23    210      \n",
       "45477 text47417 228  18    210      \n",
       "6457  text6706  228  29    199      \n",
       "3140  text3262  221  29    192      \n",
       "40818 text42560 201  22    179      \n",
       "11816 text12286 191  20    171      \n",
       "45481 text47421 165   8    157      \n",
       "38209 text39822 169  16    153      \n",
       "31336 text32662 156   9    147      "
      ]
     },
     "metadata": {},
     "output_type": "display_data"
    }
   ],
   "source": [
    "# Convert to data frame \n",
    "ideology_scores <- quanteda::convert(ideology_dfm, to = \"data.frame\")\n",
    "\n",
    "# Extracting column names and grouping into ideologies (selected topics only)\n",
    "\n",
    "# Note: A more optimal code to group ideologies can be applied, at this point, this version worked. \n",
    "\n",
    "ideology_scores$left <- \n",
    "\n",
    "  (if(\"ECONOMY.=STATE=\" %in% names(ideology_scores)) ideology_scores$\"ECONOMY.=STATE=\" else 0) +\n",
    "  (if(\"ECONOMY.+STATE+\" %in% names(ideology_scores)) ideology_scores$\"ECONOMY.+STATE+\" else 0) +\n",
    "  (if(\"INSTITUTIONS.RADICAL\" %in% names(ideology_scores)) ideology_scores$\"INSTITUTIONS.RADICAL\" else 0) +\n",
    "  (if(\"ENVIRONMENT.PRO ENVIRONMENT\" %in% names(ideology_scores)) ideology_scores$\"ENVIRONMENT.PRO ENVIRONMENT\" else 0) +\n",
    "  (if(\"GROUPS_ETHNIC\" %in% names(ideology_scores)) ideology_scores$\"GROUPS_ETHNIC\" else 0) +\n",
    "  (if(\"GROUPS_WOMEN\" %in% names(ideology_scores)) ideology_scores$\"GROUPS_WOMEN\" else 0) +\n",
    "  (if(\"VALUES_LIBERAL\" %in% names(ideology_scores)) ideology_scores$\"VALUES_LIBERAL\" else 0) +\n",
    "  (if(\"LAW_AND_ORDER.LAW-LIBERAL\" %in% names(ideology_scores)) ideology_scores$\"LAW_AND_ORDER.LAW-LIBERAL\" else 0)\n",
    "\n",
    "ideology_scores$right <- \n",
    "   \n",
    "  (if(\"ECONOMY.-STATE-\" %in% names(ideology_scores)) ideology_scores$\"ECONOMY.-STATE-\" else 0) +\n",
    "  (if(\"INSTITUTIONS.CONSERVATIVE\" %in% names(ideology_scores)) ideology_scores$\"INSTITUTIONS.CONSERVATIVE\" else 0) +\n",
    "  (if(\"LAW_AND_ORDER.LAW-CONSERVATIVE\" %in% names(ideology_scores)) ideology_scores$\"LAW_AND_ORDER.LAW-CONSERVATIVE\" else 0) +\n",
    "  (if(\"VALUES.CONSERVATIVE\" %in% names(ideology_scores)) ideology_scores$\"VALUES.CONSERVATIVE\" else 0) +\n",
    "  (if(\"CULTURE.CULTURE-HIGH\" %in% names(ideology_scores)) ideology_scores$\"CULTURE.CULTURE-HIGH\" else 0)\n",
    "\n",
    "# Calculating net score\n",
    "ideology_scores$net_score <- ideology_scores$left - ideology_scores$right\n",
    "\n",
    "# Printing results\n",
    "head(ideology_scores[order(-ideology_scores$net_score), c(\"doc_id\", \"left\", \"right\", \"net_score\")], 10)"
   ]
  },
  {
   "cell_type": "code",
   "execution_count": 25,
   "id": "049f4350-28b2-4e21-b785-d31ad43c5150",
   "metadata": {},
   "outputs": [
    {
     "data": {
      "text/html": [
       "46878"
      ],
      "text/latex": [
       "46878"
      ],
      "text/markdown": [
       "46878"
      ],
      "text/plain": [
       "[1] 46878"
      ]
     },
     "metadata": {},
     "output_type": "display_data"
    },
    {
     "data": {
      "text/html": [
       "46878"
      ],
      "text/latex": [
       "46878"
      ],
      "text/markdown": [
       "46878"
      ],
      "text/plain": [
       "[1] 46878"
      ]
     },
     "metadata": {},
     "output_type": "display_data"
    }
   ],
   "source": [
    "# Merging speeches_en with ideology_scores (ensure they have the same number of rows and same order)\n",
    "ideology_results <- cbind(\n",
    "  speeches_en,  # Your original data with metadata (e.g., party)\n",
    "  ideology_scores  # Converted ideology scores\n",
    ")\n",
    "\n",
    "# Printing the first few rows of the merged results and checking the right order\n",
    "#head(ideology_results)\n",
    "nrow(speeches_en)  # Check the number of rows in speeches_en\n",
    "nrow(ideology_scores)  # Check the number of rows in ideology_scores\n",
    "\n",
    "# Adding token counts using speeches_dfm\n",
    "ideology_results <- ideology_results %>%\n",
    "  mutate(ntokens = quanteda::ntoken(speeches_dfm))  # Add token counts using speeches_dfm\n",
    "\n",
    "# Performing transformations to calculate relative ideology scores\n",
    "ideology_results <- ideology_results %>%\n",
    "  mutate(\n",
    "    rel_ideology_mp = (right - left) / ntokens,                # Method 1: Proportional difference\n",
    "    rel_ideology_laver = (right - left) / (right + left),      # Method 2: Laver-style scaling\n",
    "    rel_ideology_lowe = log((right + 1) / (left + 1))          # Method 3: Log-ratio (Lowe)\n",
    "  ) "
   ]
  },
  {
   "cell_type": "code",
   "execution_count": 26,
   "id": "b838fb07-6322-4535-a2f0-c7890fd4b0b7",
   "metadata": {},
   "outputs": [
    {
     "data": {
      "text/html": [
       "<table class=\"dataframe\">\n",
       "<caption>A data.frame: 10 × 7</caption>\n",
       "<thead>\n",
       "\t<tr><th></th><th scope=col>party</th><th scope=col>left</th><th scope=col>right</th><th scope=col>ntokens</th><th scope=col>rel_ideology_mp</th><th scope=col>rel_ideology_laver</th><th scope=col>rel_ideology_lowe</th></tr>\n",
       "\t<tr><th></th><th scope=col>&lt;chr&gt;</th><th scope=col>&lt;dbl&gt;</th><th scope=col>&lt;dbl&gt;</th><th scope=col>&lt;int&gt;</th><th scope=col>&lt;dbl&gt;</th><th scope=col>&lt;dbl&gt;</th><th scope=col>&lt;dbl&gt;</th></tr>\n",
       "</thead>\n",
       "<tbody>\n",
       "\t<tr><th scope=row>1</th><td>Fianna Fáil</td><td>16</td><td> 6</td><td>188</td><td>-0.053191489</td><td>-0.45454545</td><td>-0.88730320</td></tr>\n",
       "\t<tr><th scope=row>2</th><td>Fine Gael  </td><td> 0</td><td> 0</td><td>  4</td><td> 0.000000000</td><td>        NaN</td><td> 0.00000000</td></tr>\n",
       "\t<tr><th scope=row>3</th><td>Fianna Fáil</td><td> 1</td><td> 0</td><td>  8</td><td>-0.125000000</td><td>-1.00000000</td><td>-0.69314718</td></tr>\n",
       "\t<tr><th scope=row>4</th><td>Fianna Fáil</td><td> 0</td><td> 0</td><td>  3</td><td> 0.000000000</td><td>        NaN</td><td> 0.00000000</td></tr>\n",
       "\t<tr><th scope=row>5</th><td>External   </td><td>17</td><td> 8</td><td>439</td><td>-0.020501139</td><td>-0.36000000</td><td>-0.69314718</td></tr>\n",
       "\t<tr><th scope=row>6</th><td>External   </td><td> 4</td><td> 0</td><td> 64</td><td>-0.062500000</td><td>-1.00000000</td><td>-1.60943791</td></tr>\n",
       "\t<tr><th scope=row>7</th><td>Green Party</td><td> 0</td><td> 0</td><td> 18</td><td> 0.000000000</td><td>        NaN</td><td> 0.00000000</td></tr>\n",
       "\t<tr><th scope=row>8</th><td>Fine Gael  </td><td>17</td><td>16</td><td>301</td><td>-0.003322259</td><td>-0.03030303</td><td>-0.05715841</td></tr>\n",
       "\t<tr><th scope=row>9</th><td>Fianna Fáil</td><td> 7</td><td> 2</td><td> 77</td><td>-0.064935065</td><td>-0.55555556</td><td>-0.98082925</td></tr>\n",
       "\t<tr><th scope=row>10</th><td>External   </td><td> 6</td><td> 3</td><td>148</td><td>-0.020270270</td><td>-0.33333333</td><td>-0.55961579</td></tr>\n",
       "</tbody>\n",
       "</table>\n"
      ],
      "text/latex": [
       "A data.frame: 10 × 7\n",
       "\\begin{tabular}{r|lllllll}\n",
       "  & party & left & right & ntokens & rel\\_ideology\\_mp & rel\\_ideology\\_laver & rel\\_ideology\\_lowe\\\\\n",
       "  & <chr> & <dbl> & <dbl> & <int> & <dbl> & <dbl> & <dbl>\\\\\n",
       "\\hline\n",
       "\t1 & Fianna Fáil & 16 &  6 & 188 & -0.053191489 & -0.45454545 & -0.88730320\\\\\n",
       "\t2 & Fine Gael   &  0 &  0 &   4 &  0.000000000 &         NaN &  0.00000000\\\\\n",
       "\t3 & Fianna Fáil &  1 &  0 &   8 & -0.125000000 & -1.00000000 & -0.69314718\\\\\n",
       "\t4 & Fianna Fáil &  0 &  0 &   3 &  0.000000000 &         NaN &  0.00000000\\\\\n",
       "\t5 & External    & 17 &  8 & 439 & -0.020501139 & -0.36000000 & -0.69314718\\\\\n",
       "\t6 & External    &  4 &  0 &  64 & -0.062500000 & -1.00000000 & -1.60943791\\\\\n",
       "\t7 & Green Party &  0 &  0 &  18 &  0.000000000 &         NaN &  0.00000000\\\\\n",
       "\t8 & Fine Gael   & 17 & 16 & 301 & -0.003322259 & -0.03030303 & -0.05715841\\\\\n",
       "\t9 & Fianna Fáil &  7 &  2 &  77 & -0.064935065 & -0.55555556 & -0.98082925\\\\\n",
       "\t10 & External    &  6 &  3 & 148 & -0.020270270 & -0.33333333 & -0.55961579\\\\\n",
       "\\end{tabular}\n"
      ],
      "text/markdown": [
       "\n",
       "A data.frame: 10 × 7\n",
       "\n",
       "| <!--/--> | party &lt;chr&gt; | left &lt;dbl&gt; | right &lt;dbl&gt; | ntokens &lt;int&gt; | rel_ideology_mp &lt;dbl&gt; | rel_ideology_laver &lt;dbl&gt; | rel_ideology_lowe &lt;dbl&gt; |\n",
       "|---|---|---|---|---|---|---|---|\n",
       "| 1 | Fianna Fáil | 16 |  6 | 188 | -0.053191489 | -0.45454545 | -0.88730320 |\n",
       "| 2 | Fine Gael   |  0 |  0 |   4 |  0.000000000 |         NaN |  0.00000000 |\n",
       "| 3 | Fianna Fáil |  1 |  0 |   8 | -0.125000000 | -1.00000000 | -0.69314718 |\n",
       "| 4 | Fianna Fáil |  0 |  0 |   3 |  0.000000000 |         NaN |  0.00000000 |\n",
       "| 5 | External    | 17 |  8 | 439 | -0.020501139 | -0.36000000 | -0.69314718 |\n",
       "| 6 | External    |  4 |  0 |  64 | -0.062500000 | -1.00000000 | -1.60943791 |\n",
       "| 7 | Green Party |  0 |  0 |  18 |  0.000000000 |         NaN |  0.00000000 |\n",
       "| 8 | Fine Gael   | 17 | 16 | 301 | -0.003322259 | -0.03030303 | -0.05715841 |\n",
       "| 9 | Fianna Fáil |  7 |  2 |  77 | -0.064935065 | -0.55555556 | -0.98082925 |\n",
       "| 10 | External    |  6 |  3 | 148 | -0.020270270 | -0.33333333 | -0.55961579 |\n",
       "\n"
      ],
      "text/plain": [
       "   party       left right ntokens rel_ideology_mp rel_ideology_laver\n",
       "1  Fianna Fáil 16    6    188     -0.053191489    -0.45454545       \n",
       "2  Fine Gael    0    0      4      0.000000000            NaN       \n",
       "3  Fianna Fáil  1    0      8     -0.125000000    -1.00000000       \n",
       "4  Fianna Fáil  0    0      3      0.000000000            NaN       \n",
       "5  External    17    8    439     -0.020501139    -0.36000000       \n",
       "6  External     4    0     64     -0.062500000    -1.00000000       \n",
       "7  Green Party  0    0     18      0.000000000            NaN       \n",
       "8  Fine Gael   17   16    301     -0.003322259    -0.03030303       \n",
       "9  Fianna Fáil  7    2     77     -0.064935065    -0.55555556       \n",
       "10 External     6    3    148     -0.020270270    -0.33333333       \n",
       "   rel_ideology_lowe\n",
       "1  -0.88730320      \n",
       "2   0.00000000      \n",
       "3  -0.69314718      \n",
       "4   0.00000000      \n",
       "5  -0.69314718      \n",
       "6  -1.60943791      \n",
       "7   0.00000000      \n",
       "8  -0.05715841      \n",
       "9  -0.98082925      \n",
       "10 -0.55961579      "
      ]
     },
     "metadata": {},
     "output_type": "display_data"
    }
   ],
   "source": [
    "# Selecting columns and printing the result \n",
    "ideology_results <- ideology_results %>%\n",
    "  select(party, left, right, ntokens, rel_ideology_mp, rel_ideology_laver, rel_ideology_lowe)\n",
    "head(ideology_results, 10)"
   ]
  },
  {
   "cell_type": "code",
   "execution_count": 27,
   "id": "78563a10-980f-4cc4-8b50-e8d5152f1b6b",
   "metadata": {},
   "outputs": [
    {
     "name": "stdout",
     "output_type": "stream",
     "text": [
      "[1] \"Mean Summary:\"\n",
      "\u001b[90m# A tibble: 10 × 4\u001b[39m\n",
      "   party      mean_rel_ideology_mp mean_rel_ideology_la…¹ mean_rel_ideology_lowe\n",
      "   \u001b[3m\u001b[90m<chr>\u001b[39m\u001b[23m                     \u001b[3m\u001b[90m<dbl>\u001b[39m\u001b[23m                  \u001b[3m\u001b[90m<dbl>\u001b[39m\u001b[23m                  \u001b[3m\u001b[90m<dbl>\u001b[39m\u001b[23m\n",
      "\u001b[90m 1\u001b[39m Anti-Aust…              -\u001b[31m0\u001b[39m\u001b[31m.\u001b[39m\u001b[31m0\u001b[39m\u001b[31m50\u001b[4m2\u001b[24m\u001b[39m                 -\u001b[31m0\u001b[39m\u001b[31m.\u001b[39m\u001b[31m573\u001b[39m                 -\u001b[31m0\u001b[39m\u001b[31m.\u001b[39m\u001b[31m876\u001b[39m\n",
      "\u001b[90m 2\u001b[39m External                -\u001b[31m0\u001b[39m\u001b[31m.\u001b[39m\u001b[31m0\u001b[39m\u001b[31m48\u001b[4m8\u001b[24m\u001b[39m                 -\u001b[31m0\u001b[39m\u001b[31m.\u001b[39m\u001b[31m553\u001b[39m                 -\u001b[31m0\u001b[39m\u001b[31m.\u001b[39m\u001b[31m860\u001b[39m\n",
      "\u001b[90m 3\u001b[39m Fianna Fá…              -\u001b[31m0\u001b[39m\u001b[31m.\u001b[39m\u001b[31m0\u001b[39m\u001b[31m51\u001b[4m2\u001b[24m\u001b[39m                 -\u001b[31m0\u001b[39m\u001b[31m.\u001b[39m\u001b[31m554\u001b[39m                 -\u001b[31m0\u001b[39m\u001b[31m.\u001b[39m\u001b[31m860\u001b[39m\n",
      "\u001b[90m 4\u001b[39m Fine Gael               -\u001b[31m0\u001b[39m\u001b[31m.\u001b[39m\u001b[31m0\u001b[39m\u001b[31m48\u001b[4m7\u001b[24m\u001b[39m                 -\u001b[31m0\u001b[39m\u001b[31m.\u001b[39m\u001b[31m552\u001b[39m                 -\u001b[31m0\u001b[39m\u001b[31m.\u001b[39m\u001b[31m865\u001b[39m\n",
      "\u001b[90m 5\u001b[39m Green Par…              -\u001b[31m0\u001b[39m\u001b[31m.\u001b[39m\u001b[31m0\u001b[39m\u001b[31m50\u001b[4m0\u001b[24m\u001b[39m                 -\u001b[31m0\u001b[39m\u001b[31m.\u001b[39m\u001b[31m545\u001b[39m                 -\u001b[31m0\u001b[39m\u001b[31m.\u001b[39m\u001b[31m838\u001b[39m\n",
      "\u001b[90m 6\u001b[39m Independe…              -\u001b[31m0\u001b[39m\u001b[31m.\u001b[39m\u001b[31m0\u001b[39m\u001b[31m49\u001b[4m6\u001b[24m\u001b[39m                 -\u001b[31m0\u001b[39m\u001b[31m.\u001b[39m\u001b[31m561\u001b[39m                 -\u001b[31m0\u001b[39m\u001b[31m.\u001b[39m\u001b[31m834\u001b[39m\n",
      "\u001b[90m 7\u001b[39m Independe…              -\u001b[31m0\u001b[39m\u001b[31m.\u001b[39m\u001b[31m0\u001b[39m\u001b[31m46\u001b[4m6\u001b[24m\u001b[39m                 -\u001b[31m0\u001b[39m\u001b[31m.\u001b[39m\u001b[31m544\u001b[39m                 -\u001b[31m0\u001b[39m\u001b[31m.\u001b[39m\u001b[31m792\u001b[39m\n",
      "\u001b[90m 8\u001b[39m Labour Pa…              -\u001b[31m0\u001b[39m\u001b[31m.\u001b[39m\u001b[31m0\u001b[39m\u001b[31m45\u001b[4m1\u001b[24m\u001b[39m                 -\u001b[31m0\u001b[39m\u001b[31m.\u001b[39m\u001b[31m539\u001b[39m                 -\u001b[31m0\u001b[39m\u001b[31m.\u001b[39m\u001b[31m865\u001b[39m\n",
      "\u001b[90m 9\u001b[39m Sinn Féin               -\u001b[31m0\u001b[39m\u001b[31m.\u001b[39m\u001b[31m0\u001b[39m\u001b[31m51\u001b[4m3\u001b[24m\u001b[39m                 -\u001b[31m0\u001b[39m\u001b[31m.\u001b[39m\u001b[31m571\u001b[39m                 -\u001b[31m0\u001b[39m\u001b[31m.\u001b[39m\u001b[31m888\u001b[39m\n",
      "\u001b[90m10\u001b[39m Social De…              -\u001b[31m0\u001b[39m\u001b[31m.\u001b[39m\u001b[31m0\u001b[39m\u001b[31m47\u001b[4m6\u001b[24m\u001b[39m                 -\u001b[31m0\u001b[39m\u001b[31m.\u001b[39m\u001b[31m545\u001b[39m                 -\u001b[31m0\u001b[39m\u001b[31m.\u001b[39m\u001b[31m843\u001b[39m\n",
      "\u001b[90m# ℹ abbreviated name: ¹​mean_rel_ideology_laver\u001b[39m\n",
      "[1] \"Standard Deviation Summary:\"\n",
      "\u001b[90m# A tibble: 10 × 4\u001b[39m\n",
      "   party           sd_rel_ideology_mp sd_rel_ideology_laver sd_rel_ideology_lowe\n",
      "   \u001b[3m\u001b[90m<chr>\u001b[39m\u001b[23m                        \u001b[3m\u001b[90m<dbl>\u001b[39m\u001b[23m                 \u001b[3m\u001b[90m<dbl>\u001b[39m\u001b[23m                \u001b[3m\u001b[90m<dbl>\u001b[39m\u001b[23m\n",
      "\u001b[90m 1\u001b[39m Anti-Austerity…             0.087\u001b[4m8\u001b[24m                 0.620                0.871\n",
      "\u001b[90m 2\u001b[39m External                    0.106                  0.629                0.896\n",
      "\u001b[90m 3\u001b[39m Fianna Fáil                 0.109                  0.628                0.880\n",
      "\u001b[90m 4\u001b[39m Fine Gael                   0.098\u001b[4m2\u001b[24m                 0.636                0.903\n",
      "\u001b[90m 5\u001b[39m Green Party                 0.100                  0.640                0.896\n",
      "\u001b[90m 6\u001b[39m Independent                 0.120                  0.622                0.878\n",
      "\u001b[90m 7\u001b[39m Independents 4…             0.092\u001b[4m3\u001b[24m                 0.653                0.953\n",
      "\u001b[90m 8\u001b[39m Labour Party                0.127                  0.631                0.894\n",
      "\u001b[90m 9\u001b[39m Sinn Féin                   0.103                  0.613                0.887\n",
      "\u001b[90m10\u001b[39m Social Democra…             0.087\u001b[4m9\u001b[24m                 0.635                0.889\n"
     ]
    }
   ],
   "source": [
    "# Dropping NA and zero values \n",
    "filtered_ideology_results <- ideology_results %>%\n",
    "  filter(!is.na(rel_ideology_mp) & rel_ideology_mp != 0,\n",
    "         !is.na(rel_ideology_laver) & rel_ideology_laver != 0,\n",
    "         !is.na(rel_ideology_lowe) & rel_ideology_lowe != 0)\n",
    "\n",
    "# Calculating mean summary \n",
    "mean_summary <- filtered_ideology_results %>%\n",
    "  group_by(party) %>%\n",
    "  summarise(\n",
    "    mean_rel_ideology_mp = mean(rel_ideology_mp, na.rm = TRUE),\n",
    "    mean_rel_ideology_laver = mean(rel_ideology_laver, na.rm = TRUE),\n",
    "    mean_rel_ideology_lowe = mean(rel_ideology_lowe, na.rm = TRUE)\n",
    "  )\n",
    "\n",
    "# Calculating standard deviation summary \n",
    "sd_summary <- filtered_ideology_results %>%\n",
    "  group_by(party) %>%\n",
    "  summarise(\n",
    "    sd_rel_ideology_mp = sd(rel_ideology_mp, na.rm = TRUE),\n",
    "    sd_rel_ideology_laver = sd(rel_ideology_laver, na.rm = TRUE),\n",
    "    sd_rel_ideology_lowe = sd(rel_ideology_lowe, na.rm = TRUE)\n",
    "  )\n",
    "\n",
    "# Printing the results\n",
    "print(\"Mean Summary:\")\n",
    "print(mean_summary)\n",
    "\n",
    "print(\"Standard Deviation Summary:\")\n",
    "print(sd_summary)\n",
    "\n",
    "# The analysis of ideology measures reveals that most parties in the dataset lean left, with no major differences.  \n",
    "# While the mean scores suggest a left-leaning trend across parties, \n",
    "# standard deviations show varying levels of ideological diversity, particularly within parties like Labour and \n",
    "# Independents 4 Change (which has a small n). \n",
    "# The findings highlight a generally consistent left-leaning stance, with some internal variability in ideological positions.\n",
    "\n",
    "# While these methods offer some insights, other approaches might provide a more nuanced understanding of party ideologies."
   ]
  }
 ],
 "metadata": {
  "kernelspec": {
   "display_name": "R",
   "language": "R",
   "name": "ir"
  },
  "language_info": {
   "codemirror_mode": "r",
   "file_extension": ".r",
   "mimetype": "text/x-r-source",
   "name": "R",
   "pygments_lexer": "r",
   "version": "4.4.1"
  }
 },
 "nbformat": 4,
 "nbformat_minor": 5
}
